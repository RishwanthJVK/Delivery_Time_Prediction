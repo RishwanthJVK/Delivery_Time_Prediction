{
 "cells": [
  {
   "cell_type": "code",
   "execution_count": 1,
   "id": "a73ee30d-b33d-4095-b70a-666c5443f93f",
   "metadata": {},
   "outputs": [],
   "source": [
    "import pandas as pd\n",
    "import numpy as np\n",
    "import matplotlib.pyplot as plt\n",
    "import seaborn as sns\n",
    "import math\n",
    "from sklearn.compose import ColumnTransformer\n",
    "from sklearn.preprocessing import OrdinalEncoder"
   ]
  },
  {
   "cell_type": "markdown",
   "id": "65f0ca57-501d-448b-9ca0-f6a4a2534cf1",
   "metadata": {},
   "source": [
    "## Data Summary"
   ]
  },
  {
   "cell_type": "code",
   "execution_count": 2,
   "id": "ca21b587-6602-401f-ac3f-e20c297c8deb",
   "metadata": {},
   "outputs": [],
   "source": [
    "df = pd.read_csv(\"amazon_delivery.csv\")"
   ]
  },
  {
   "cell_type": "code",
   "execution_count": 3,
   "id": "6cc24e1f-ada0-45ea-a8f1-f0d8d606e2e3",
   "metadata": {},
   "outputs": [
    {
     "data": {
      "text/html": [
       "<div>\n",
       "<style scoped>\n",
       "    .dataframe tbody tr th:only-of-type {\n",
       "        vertical-align: middle;\n",
       "    }\n",
       "\n",
       "    .dataframe tbody tr th {\n",
       "        vertical-align: top;\n",
       "    }\n",
       "\n",
       "    .dataframe thead th {\n",
       "        text-align: right;\n",
       "    }\n",
       "</style>\n",
       "<table border=\"1\" class=\"dataframe\">\n",
       "  <thead>\n",
       "    <tr style=\"text-align: right;\">\n",
       "      <th></th>\n",
       "      <th>Order_ID</th>\n",
       "      <th>Agent_Age</th>\n",
       "      <th>Agent_Rating</th>\n",
       "      <th>Store_Latitude</th>\n",
       "      <th>Store_Longitude</th>\n",
       "      <th>Drop_Latitude</th>\n",
       "      <th>Drop_Longitude</th>\n",
       "      <th>Order_Date</th>\n",
       "      <th>Order_Time</th>\n",
       "      <th>Pickup_Time</th>\n",
       "      <th>Weather</th>\n",
       "      <th>Traffic</th>\n",
       "      <th>Vehicle</th>\n",
       "      <th>Area</th>\n",
       "      <th>Delivery_Time</th>\n",
       "      <th>Category</th>\n",
       "    </tr>\n",
       "  </thead>\n",
       "  <tbody>\n",
       "    <tr>\n",
       "      <th>0</th>\n",
       "      <td>ialx566343618</td>\n",
       "      <td>37</td>\n",
       "      <td>4.9</td>\n",
       "      <td>22.745049</td>\n",
       "      <td>75.892471</td>\n",
       "      <td>22.765049</td>\n",
       "      <td>75.912471</td>\n",
       "      <td>2022-03-19</td>\n",
       "      <td>11:30:00</td>\n",
       "      <td>11:45:00</td>\n",
       "      <td>Sunny</td>\n",
       "      <td>High</td>\n",
       "      <td>motorcycle</td>\n",
       "      <td>Urban</td>\n",
       "      <td>120</td>\n",
       "      <td>Clothing</td>\n",
       "    </tr>\n",
       "    <tr>\n",
       "      <th>1</th>\n",
       "      <td>akqg208421122</td>\n",
       "      <td>34</td>\n",
       "      <td>4.5</td>\n",
       "      <td>12.913041</td>\n",
       "      <td>77.683237</td>\n",
       "      <td>13.043041</td>\n",
       "      <td>77.813237</td>\n",
       "      <td>2022-03-25</td>\n",
       "      <td>19:45:00</td>\n",
       "      <td>19:50:00</td>\n",
       "      <td>Stormy</td>\n",
       "      <td>Jam</td>\n",
       "      <td>scooter</td>\n",
       "      <td>Metropolitian</td>\n",
       "      <td>165</td>\n",
       "      <td>Electronics</td>\n",
       "    </tr>\n",
       "    <tr>\n",
       "      <th>2</th>\n",
       "      <td>njpu434582536</td>\n",
       "      <td>23</td>\n",
       "      <td>4.4</td>\n",
       "      <td>12.914264</td>\n",
       "      <td>77.678400</td>\n",
       "      <td>12.924264</td>\n",
       "      <td>77.688400</td>\n",
       "      <td>2022-03-19</td>\n",
       "      <td>08:30:00</td>\n",
       "      <td>08:45:00</td>\n",
       "      <td>Sandstorms</td>\n",
       "      <td>Low</td>\n",
       "      <td>motorcycle</td>\n",
       "      <td>Urban</td>\n",
       "      <td>130</td>\n",
       "      <td>Sports</td>\n",
       "    </tr>\n",
       "    <tr>\n",
       "      <th>3</th>\n",
       "      <td>rjto796129700</td>\n",
       "      <td>38</td>\n",
       "      <td>4.7</td>\n",
       "      <td>11.003669</td>\n",
       "      <td>76.976494</td>\n",
       "      <td>11.053669</td>\n",
       "      <td>77.026494</td>\n",
       "      <td>2022-04-05</td>\n",
       "      <td>18:00:00</td>\n",
       "      <td>18:10:00</td>\n",
       "      <td>Sunny</td>\n",
       "      <td>Medium</td>\n",
       "      <td>motorcycle</td>\n",
       "      <td>Metropolitian</td>\n",
       "      <td>105</td>\n",
       "      <td>Cosmetics</td>\n",
       "    </tr>\n",
       "    <tr>\n",
       "      <th>4</th>\n",
       "      <td>zguw716275638</td>\n",
       "      <td>32</td>\n",
       "      <td>4.6</td>\n",
       "      <td>12.972793</td>\n",
       "      <td>80.249982</td>\n",
       "      <td>13.012793</td>\n",
       "      <td>80.289982</td>\n",
       "      <td>2022-03-26</td>\n",
       "      <td>13:30:00</td>\n",
       "      <td>13:45:00</td>\n",
       "      <td>Cloudy</td>\n",
       "      <td>High</td>\n",
       "      <td>scooter</td>\n",
       "      <td>Metropolitian</td>\n",
       "      <td>150</td>\n",
       "      <td>Toys</td>\n",
       "    </tr>\n",
       "  </tbody>\n",
       "</table>\n",
       "</div>"
      ],
      "text/plain": [
       "        Order_ID  Agent_Age  Agent_Rating  Store_Latitude  Store_Longitude  \\\n",
       "0  ialx566343618         37           4.9       22.745049        75.892471   \n",
       "1  akqg208421122         34           4.5       12.913041        77.683237   \n",
       "2  njpu434582536         23           4.4       12.914264        77.678400   \n",
       "3  rjto796129700         38           4.7       11.003669        76.976494   \n",
       "4  zguw716275638         32           4.6       12.972793        80.249982   \n",
       "\n",
       "   Drop_Latitude  Drop_Longitude  Order_Date Order_Time Pickup_Time  \\\n",
       "0      22.765049       75.912471  2022-03-19   11:30:00    11:45:00   \n",
       "1      13.043041       77.813237  2022-03-25   19:45:00    19:50:00   \n",
       "2      12.924264       77.688400  2022-03-19   08:30:00    08:45:00   \n",
       "3      11.053669       77.026494  2022-04-05   18:00:00    18:10:00   \n",
       "4      13.012793       80.289982  2022-03-26   13:30:00    13:45:00   \n",
       "\n",
       "      Weather  Traffic      Vehicle            Area  Delivery_Time  \\\n",
       "0       Sunny    High   motorcycle           Urban             120   \n",
       "1      Stormy     Jam      scooter   Metropolitian             165   \n",
       "2  Sandstorms     Low   motorcycle           Urban             130   \n",
       "3       Sunny  Medium   motorcycle   Metropolitian             105   \n",
       "4      Cloudy    High      scooter   Metropolitian             150   \n",
       "\n",
       "      Category  \n",
       "0     Clothing  \n",
       "1  Electronics  \n",
       "2       Sports  \n",
       "3    Cosmetics  \n",
       "4         Toys  "
      ]
     },
     "execution_count": 3,
     "metadata": {},
     "output_type": "execute_result"
    }
   ],
   "source": [
    "df.head()"
   ]
  },
  {
   "cell_type": "code",
   "execution_count": 4,
   "id": "e17253db-c688-44ec-b7a4-bbace4a70475",
   "metadata": {},
   "outputs": [
    {
     "data": {
      "text/plain": [
       "(43739, 16)"
      ]
     },
     "execution_count": 4,
     "metadata": {},
     "output_type": "execute_result"
    }
   ],
   "source": [
    "df.shape"
   ]
  },
  {
   "cell_type": "markdown",
   "id": "4a26481e-2a20-45ea-883e-224bc0cef346",
   "metadata": {},
   "source": [
    "This has 43739 observations and 16 columns. <br>\n",
    "The delivery time is a potential target variable"
   ]
  },
  {
   "cell_type": "code",
   "execution_count": 5,
   "id": "43741c59-ac6f-4982-8b2b-ca62b0f971dc",
   "metadata": {},
   "outputs": [
    {
     "name": "stdout",
     "output_type": "stream",
     "text": [
      "<class 'pandas.core.frame.DataFrame'>\n",
      "RangeIndex: 43739 entries, 0 to 43738\n",
      "Data columns (total 16 columns):\n",
      " #   Column           Non-Null Count  Dtype  \n",
      "---  ------           --------------  -----  \n",
      " 0   Order_ID         43739 non-null  object \n",
      " 1   Agent_Age        43739 non-null  int64  \n",
      " 2   Agent_Rating     43685 non-null  float64\n",
      " 3   Store_Latitude   43739 non-null  float64\n",
      " 4   Store_Longitude  43739 non-null  float64\n",
      " 5   Drop_Latitude    43739 non-null  float64\n",
      " 6   Drop_Longitude   43739 non-null  float64\n",
      " 7   Order_Date       43739 non-null  object \n",
      " 8   Order_Time       43739 non-null  object \n",
      " 9   Pickup_Time      43739 non-null  object \n",
      " 10  Weather          43648 non-null  object \n",
      " 11  Traffic          43739 non-null  object \n",
      " 12  Vehicle          43739 non-null  object \n",
      " 13  Area             43739 non-null  object \n",
      " 14  Delivery_Time    43739 non-null  int64  \n",
      " 15  Category         43739 non-null  object \n",
      "dtypes: float64(5), int64(2), object(9)\n",
      "memory usage: 5.3+ MB\n"
     ]
    }
   ],
   "source": [
    "df.info()"
   ]
  },
  {
   "cell_type": "markdown",
   "id": "cc42956f-9392-49b4-8bbc-c1fc601057bc",
   "metadata": {},
   "source": [
    "There are 9 categorical variables and 7 numerical variables"
   ]
  },
  {
   "cell_type": "markdown",
   "id": "ab457eb0-aba6-4b9b-829e-e234089d9b1c",
   "metadata": {},
   "source": [
    "## Objective Of The Analysis"
   ]
  },
  {
   "cell_type": "markdown",
   "id": "bf69e31c-c9ce-4f00-b80c-1d080660e2c7",
   "metadata": {},
   "source": [
    "In this Analysis, we are keeping delivery time as the target variable, and using other features like agent age, mode of delivery, delivery time, we are aiming to predict the delivery time"
   ]
  },
  {
   "cell_type": "markdown",
   "id": "c944c382-02e2-48e3-920b-582bbaa4a6fb",
   "metadata": {},
   "source": [
    "For this analysis:\n",
    " - Order Id is irrelevant, so we will be removing it.\n",
    " - combine the four features: store latitude, store longitude, drop latitude, drop longitude to a single feature called distance.\n",
    " - transform and split the date column to day of the week column and month column."
   ]
  },
  {
   "cell_type": "markdown",
   "id": "f2b110fd-264d-477a-b22b-de000b2a45df",
   "metadata": {},
   "source": [
    "## Data Cleaning"
   ]
  },
  {
   "cell_type": "markdown",
   "id": "8cb4951f-ccc4-45b5-8075-a0e297952bd5",
   "metadata": {},
   "source": [
    "Handling missing values"
   ]
  },
  {
   "cell_type": "code",
   "execution_count": 6,
   "id": "4378d608-eb96-40b6-ac03-144e57ae2c5a",
   "metadata": {},
   "outputs": [
    {
     "name": "stdout",
     "output_type": "stream",
     "text": [
      "Agent_Rating\n",
      "Weather\n"
     ]
    }
   ],
   "source": [
    "for column in df.columns:\n",
    "    if df[column].isna().sum() > 0:\n",
    "        print(column)\n"
   ]
  },
  {
   "cell_type": "markdown",
   "id": "c69292a0-8875-4585-af0c-1c508ddee722",
   "metadata": {},
   "source": [
    "So only 2 columns, Agent_Rating and Weather have null data"
   ]
  },
  {
   "cell_type": "code",
   "execution_count": 7,
   "id": "db1dc3af-c14b-448d-a58b-fcde4ea6a185",
   "metadata": {},
   "outputs": [
    {
     "data": {
      "text/plain": [
       "54"
      ]
     },
     "execution_count": 7,
     "metadata": {},
     "output_type": "execute_result"
    }
   ],
   "source": [
    "df[\"Agent_Rating\"].isna().sum()"
   ]
  },
  {
   "cell_type": "code",
   "execution_count": 8,
   "id": "0753ee91-7edd-4e38-b2df-a79535a144cf",
   "metadata": {},
   "outputs": [
    {
     "data": {
      "text/plain": [
       "91"
      ]
     },
     "execution_count": 8,
     "metadata": {},
     "output_type": "execute_result"
    }
   ],
   "source": [
    "df[\"Weather\"].isna().sum()"
   ]
  },
  {
   "cell_type": "code",
   "execution_count": 9,
   "id": "2989af10-f562-4ae0-8159-d4fb82c44109",
   "metadata": {},
   "outputs": [
    {
     "data": {
      "text/html": [
       "<div>\n",
       "<style scoped>\n",
       "    .dataframe tbody tr th:only-of-type {\n",
       "        vertical-align: middle;\n",
       "    }\n",
       "\n",
       "    .dataframe tbody tr th {\n",
       "        vertical-align: top;\n",
       "    }\n",
       "\n",
       "    .dataframe thead th {\n",
       "        text-align: right;\n",
       "    }\n",
       "</style>\n",
       "<table border=\"1\" class=\"dataframe\">\n",
       "  <thead>\n",
       "    <tr style=\"text-align: right;\">\n",
       "      <th></th>\n",
       "      <th>Order_ID</th>\n",
       "      <th>Agent_Age</th>\n",
       "      <th>Agent_Rating</th>\n",
       "      <th>Store_Latitude</th>\n",
       "      <th>Store_Longitude</th>\n",
       "      <th>Drop_Latitude</th>\n",
       "      <th>Drop_Longitude</th>\n",
       "      <th>Order_Date</th>\n",
       "      <th>Order_Time</th>\n",
       "      <th>Pickup_Time</th>\n",
       "      <th>Weather</th>\n",
       "      <th>Traffic</th>\n",
       "      <th>Vehicle</th>\n",
       "      <th>Area</th>\n",
       "      <th>Delivery_Time</th>\n",
       "      <th>Category</th>\n",
       "    </tr>\n",
       "  </thead>\n",
       "  <tbody>\n",
       "  </tbody>\n",
       "</table>\n",
       "</div>"
      ],
      "text/plain": [
       "Empty DataFrame\n",
       "Columns: [Order_ID, Agent_Age, Agent_Rating, Store_Latitude, Store_Longitude, Drop_Latitude, Drop_Longitude, Order_Date, Order_Time, Pickup_Time, Weather, Traffic, Vehicle, Area, Delivery_Time, Category]\n",
       "Index: []"
      ]
     },
     "execution_count": 9,
     "metadata": {},
     "output_type": "execute_result"
    }
   ],
   "source": [
    "df[df[\"Weather\"].isna() & df[\"Agent_Rating\"].isna()]"
   ]
  },
  {
   "cell_type": "markdown",
   "id": "3087c480-050e-4113-99d2-78b760f5da0e",
   "metadata": {},
   "source": [
    "So, there is no overlap, and in total there are 145 records with missing value, since this contributes only 0.33% of our total dataset, we can drop it"
   ]
  },
  {
   "cell_type": "code",
   "execution_count": 10,
   "id": "3fb8c085-5e55-4fcd-ad9a-9bb7c160d30d",
   "metadata": {},
   "outputs": [],
   "source": [
    "df.dropna(inplace = True)"
   ]
  },
  {
   "cell_type": "code",
   "execution_count": 11,
   "id": "7fa1c6b8-4e91-4634-86a9-59d13c66acdb",
   "metadata": {},
   "outputs": [
    {
     "name": "stdout",
     "output_type": "stream",
     "text": [
      "<class 'pandas.core.frame.DataFrame'>\n",
      "Index: 43594 entries, 0 to 43738\n",
      "Data columns (total 16 columns):\n",
      " #   Column           Non-Null Count  Dtype  \n",
      "---  ------           --------------  -----  \n",
      " 0   Order_ID         43594 non-null  object \n",
      " 1   Agent_Age        43594 non-null  int64  \n",
      " 2   Agent_Rating     43594 non-null  float64\n",
      " 3   Store_Latitude   43594 non-null  float64\n",
      " 4   Store_Longitude  43594 non-null  float64\n",
      " 5   Drop_Latitude    43594 non-null  float64\n",
      " 6   Drop_Longitude   43594 non-null  float64\n",
      " 7   Order_Date       43594 non-null  object \n",
      " 8   Order_Time       43594 non-null  object \n",
      " 9   Pickup_Time      43594 non-null  object \n",
      " 10  Weather          43594 non-null  object \n",
      " 11  Traffic          43594 non-null  object \n",
      " 12  Vehicle          43594 non-null  object \n",
      " 13  Area             43594 non-null  object \n",
      " 14  Delivery_Time    43594 non-null  int64  \n",
      " 15  Category         43594 non-null  object \n",
      "dtypes: float64(5), int64(2), object(9)\n",
      "memory usage: 5.7+ MB\n"
     ]
    }
   ],
   "source": [
    "df.info()"
   ]
  },
  {
   "cell_type": "markdown",
   "id": "a05bd6dd-0a2f-45af-8a72-e48b054d0e4a",
   "metadata": {},
   "source": [
    "Handling Duplicates"
   ]
  },
  {
   "cell_type": "code",
   "execution_count": 12,
   "id": "320bdd35-777a-4510-9f12-08081e26a4b2",
   "metadata": {},
   "outputs": [
    {
     "data": {
      "text/plain": [
       "0"
      ]
     },
     "execution_count": 12,
     "metadata": {},
     "output_type": "execute_result"
    }
   ],
   "source": [
    "df.duplicated().sum()"
   ]
  },
  {
   "cell_type": "markdown",
   "id": "22f4f1bc-c84a-434f-9490-f13a694581c5",
   "metadata": {},
   "source": [
    "There are no duplicate records"
   ]
  },
  {
   "cell_type": "markdown",
   "id": "0dc33830-f759-4f90-87f9-eaee78b6e542",
   "metadata": {},
   "source": [
    "Column Transformations"
   ]
  },
  {
   "cell_type": "code",
   "execution_count": 13,
   "id": "ea13335a-d6bc-476b-b5c3-70494b9cdbec",
   "metadata": {},
   "outputs": [],
   "source": [
    "def haversine(lat1, lon1, lat2, lon2):\n",
    "    R = 6371  # Radius of the Earth in km\n",
    "    phi1 = math.radians(lat1)\n",
    "    phi2 = math.radians(lat2)\n",
    "    delta_phi = math.radians(lat2 - lat1)\n",
    "    delta_lambda = math.radians(lon2 - lon1)\n",
    "    a = math.sin(delta_phi / 2)**2 + \\\n",
    "        math.cos(phi1) * math.cos(phi2) * math.sin(delta_lambda / 2)**2\n",
    "    c = 2 * math.atan2(math.sqrt(a), math.sqrt(1 - a))\n",
    "    distance = R * c  # in kilometers\n",
    "    return distance\n",
    "\n",
    "df[\"Distance\"] = df.apply(lambda row: haversine(row['Store_Latitude'], row['Store_Longitude'], row['Drop_Latitude'], row['Drop_Longitude']), axis=1)"
   ]
  },
  {
   "cell_type": "code",
   "execution_count": 14,
   "id": "7962123e-4d0e-4508-95c5-bdec91b602f2",
   "metadata": {},
   "outputs": [],
   "source": [
    "df.drop(columns = ['Store_Latitude', 'Store_Longitude', 'Drop_Latitude', 'Drop_Longitude'], axis = 1, inplace = True)"
   ]
  },
  {
   "cell_type": "code",
   "execution_count": 15,
   "id": "458d1311-7c55-4c84-afc3-228036910623",
   "metadata": {},
   "outputs": [],
   "source": [
    "df.drop(columns = ['Order_ID'], axis = 1, inplace = True)"
   ]
  },
  {
   "cell_type": "code",
   "execution_count": 16,
   "id": "153030d6-edbe-4d25-bf4c-434960353bcb",
   "metadata": {},
   "outputs": [],
   "source": [
    "df[\"Order_Day\"] = pd.to_datetime(df[\"Order_Date\"]).dt.dayofweek\n",
    "df[\"Order_Month\"] = pd.to_datetime(df[\"Order_Date\"]).dt.month_name()"
   ]
  },
  {
   "cell_type": "code",
   "execution_count": 17,
   "id": "72ea5a10-97d7-43c2-aadb-7596faa0e2d2",
   "metadata": {},
   "outputs": [],
   "source": [
    "df.drop(columns = [\"Order_Date\"], inplace = True)"
   ]
  },
  {
   "cell_type": "code",
   "execution_count": 18,
   "id": "6d549bdc-5378-4dc5-b121-3295afe380b5",
   "metadata": {},
   "outputs": [
    {
     "data": {
      "text/html": [
       "<div>\n",
       "<style scoped>\n",
       "    .dataframe tbody tr th:only-of-type {\n",
       "        vertical-align: middle;\n",
       "    }\n",
       "\n",
       "    .dataframe tbody tr th {\n",
       "        vertical-align: top;\n",
       "    }\n",
       "\n",
       "    .dataframe thead th {\n",
       "        text-align: right;\n",
       "    }\n",
       "</style>\n",
       "<table border=\"1\" class=\"dataframe\">\n",
       "  <thead>\n",
       "    <tr style=\"text-align: right;\">\n",
       "      <th></th>\n",
       "      <th>Agent_Age</th>\n",
       "      <th>Agent_Rating</th>\n",
       "      <th>Order_Time</th>\n",
       "      <th>Pickup_Time</th>\n",
       "      <th>Weather</th>\n",
       "      <th>Traffic</th>\n",
       "      <th>Vehicle</th>\n",
       "      <th>Area</th>\n",
       "      <th>Delivery_Time</th>\n",
       "      <th>Category</th>\n",
       "      <th>Distance</th>\n",
       "      <th>Order_Day</th>\n",
       "      <th>Order_Month</th>\n",
       "    </tr>\n",
       "  </thead>\n",
       "  <tbody>\n",
       "    <tr>\n",
       "      <th>0</th>\n",
       "      <td>37</td>\n",
       "      <td>4.9</td>\n",
       "      <td>11:30:00</td>\n",
       "      <td>11:45:00</td>\n",
       "      <td>Sunny</td>\n",
       "      <td>High</td>\n",
       "      <td>motorcycle</td>\n",
       "      <td>Urban</td>\n",
       "      <td>120</td>\n",
       "      <td>Clothing</td>\n",
       "      <td>3.025149</td>\n",
       "      <td>5</td>\n",
       "      <td>March</td>\n",
       "    </tr>\n",
       "    <tr>\n",
       "      <th>1</th>\n",
       "      <td>34</td>\n",
       "      <td>4.5</td>\n",
       "      <td>19:45:00</td>\n",
       "      <td>19:50:00</td>\n",
       "      <td>Stormy</td>\n",
       "      <td>Jam</td>\n",
       "      <td>scooter</td>\n",
       "      <td>Metropolitian</td>\n",
       "      <td>165</td>\n",
       "      <td>Electronics</td>\n",
       "      <td>20.183530</td>\n",
       "      <td>4</td>\n",
       "      <td>March</td>\n",
       "    </tr>\n",
       "    <tr>\n",
       "      <th>2</th>\n",
       "      <td>23</td>\n",
       "      <td>4.4</td>\n",
       "      <td>08:30:00</td>\n",
       "      <td>08:45:00</td>\n",
       "      <td>Sandstorms</td>\n",
       "      <td>Low</td>\n",
       "      <td>motorcycle</td>\n",
       "      <td>Urban</td>\n",
       "      <td>130</td>\n",
       "      <td>Sports</td>\n",
       "      <td>1.552758</td>\n",
       "      <td>5</td>\n",
       "      <td>March</td>\n",
       "    </tr>\n",
       "    <tr>\n",
       "      <th>3</th>\n",
       "      <td>38</td>\n",
       "      <td>4.7</td>\n",
       "      <td>18:00:00</td>\n",
       "      <td>18:10:00</td>\n",
       "      <td>Sunny</td>\n",
       "      <td>Medium</td>\n",
       "      <td>motorcycle</td>\n",
       "      <td>Metropolitian</td>\n",
       "      <td>105</td>\n",
       "      <td>Cosmetics</td>\n",
       "      <td>7.790401</td>\n",
       "      <td>1</td>\n",
       "      <td>April</td>\n",
       "    </tr>\n",
       "    <tr>\n",
       "      <th>4</th>\n",
       "      <td>32</td>\n",
       "      <td>4.6</td>\n",
       "      <td>13:30:00</td>\n",
       "      <td>13:45:00</td>\n",
       "      <td>Cloudy</td>\n",
       "      <td>High</td>\n",
       "      <td>scooter</td>\n",
       "      <td>Metropolitian</td>\n",
       "      <td>150</td>\n",
       "      <td>Toys</td>\n",
       "      <td>6.210138</td>\n",
       "      <td>5</td>\n",
       "      <td>March</td>\n",
       "    </tr>\n",
       "  </tbody>\n",
       "</table>\n",
       "</div>"
      ],
      "text/plain": [
       "   Agent_Age  Agent_Rating Order_Time Pickup_Time     Weather  Traffic  \\\n",
       "0         37           4.9   11:30:00    11:45:00       Sunny    High    \n",
       "1         34           4.5   19:45:00    19:50:00      Stormy     Jam    \n",
       "2         23           4.4   08:30:00    08:45:00  Sandstorms     Low    \n",
       "3         38           4.7   18:00:00    18:10:00       Sunny  Medium    \n",
       "4         32           4.6   13:30:00    13:45:00      Cloudy    High    \n",
       "\n",
       "       Vehicle            Area  Delivery_Time     Category   Distance  \\\n",
       "0  motorcycle           Urban             120     Clothing   3.025149   \n",
       "1     scooter   Metropolitian             165  Electronics  20.183530   \n",
       "2  motorcycle           Urban             130       Sports   1.552758   \n",
       "3  motorcycle   Metropolitian             105    Cosmetics   7.790401   \n",
       "4     scooter   Metropolitian             150         Toys   6.210138   \n",
       "\n",
       "   Order_Day Order_Month  \n",
       "0          5       March  \n",
       "1          4       March  \n",
       "2          5       March  \n",
       "3          1       April  \n",
       "4          5       March  "
      ]
     },
     "execution_count": 18,
     "metadata": {},
     "output_type": "execute_result"
    }
   ],
   "source": [
    "df.head()"
   ]
  },
  {
   "cell_type": "code",
   "execution_count": 19,
   "id": "526865d9-2530-4f90-91f1-9ddeac10d666",
   "metadata": {},
   "outputs": [
    {
     "name": "stdout",
     "output_type": "stream",
     "text": [
      "<class 'pandas.core.frame.DataFrame'>\n",
      "Index: 43594 entries, 0 to 43738\n",
      "Data columns (total 13 columns):\n",
      " #   Column         Non-Null Count  Dtype  \n",
      "---  ------         --------------  -----  \n",
      " 0   Agent_Age      43594 non-null  int64  \n",
      " 1   Agent_Rating   43594 non-null  float64\n",
      " 2   Order_Time     43594 non-null  object \n",
      " 3   Pickup_Time    43594 non-null  object \n",
      " 4   Weather        43594 non-null  object \n",
      " 5   Traffic        43594 non-null  object \n",
      " 6   Vehicle        43594 non-null  object \n",
      " 7   Area           43594 non-null  object \n",
      " 8   Delivery_Time  43594 non-null  int64  \n",
      " 9   Category       43594 non-null  object \n",
      " 10  Distance       43594 non-null  float64\n",
      " 11  Order_Day      43594 non-null  int32  \n",
      " 12  Order_Month    43594 non-null  object \n",
      "dtypes: float64(2), int32(1), int64(2), object(8)\n",
      "memory usage: 4.5+ MB\n"
     ]
    }
   ],
   "source": [
    "df.info()"
   ]
  },
  {
   "cell_type": "markdown",
   "id": "52dd19c1-5e14-47fc-84f2-549ac887e354",
   "metadata": {},
   "source": [
    "Handling Outliers"
   ]
  },
  {
   "cell_type": "code",
   "execution_count": 20,
   "id": "c5584032-4d6c-4108-9cba-e87a3b709df2",
   "metadata": {},
   "outputs": [
    {
     "data": {
      "text/plain": [
       "Index(['Agent_Age', 'Agent_Rating', 'Delivery_Time', 'Distance', 'Order_Day'], dtype='object')"
      ]
     },
     "execution_count": 20,
     "metadata": {},
     "output_type": "execute_result"
    }
   ],
   "source": [
    "numeric_cols = df.select_dtypes(include = [\"int64\",\"float64\",\"int32\"])\n",
    "numeric_cols.columns"
   ]
  },
  {
   "cell_type": "code",
   "execution_count": 21,
   "id": "4f670d1c-4010-4ed7-97a4-c86b27087242",
   "metadata": {},
   "outputs": [
    {
     "data": {
      "image/png": "[encoded data removed]",
      "text/plain": [
       "<Figure size 1200x1000 with 5 Axes>"
      ]
     },
     "metadata": {},
     "output_type": "display_data"
    }
   ],
   "source": [
    "plt.figure(figsize=(12, 10))\n",
    "for i,col in enumerate(numeric_cols):\n",
    "    plt.subplot(3,2,i+1)\n",
    "    df[[col]].boxplot()\n",
    "plt.show()"
   ]
  },
  {
   "cell_type": "code",
   "execution_count": 22,
   "id": "2f34a22b-6d78-4d11-a0b6-de0575476977",
   "metadata": {},
   "outputs": [
    {
     "data": {
      "text/plain": [
       "Agent_Age        151\n",
       "Agent_Rating     151\n",
       "Order_Time       151\n",
       "Pickup_Time      151\n",
       "Weather          151\n",
       "Traffic          151\n",
       "Vehicle          151\n",
       "Area             151\n",
       "Delivery_Time    151\n",
       "Category         151\n",
       "Distance         151\n",
       "Order_Day        151\n",
       "Order_Month      151\n",
       "dtype: int64"
      ]
     },
     "execution_count": 22,
     "metadata": {},
     "output_type": "execute_result"
    }
   ],
   "source": [
    "df[df[\"Distance\"] > 2000].count()"
   ]
  },
  {
   "cell_type": "code",
   "execution_count": 23,
   "id": "ba284f1c-ec63-444a-b631-abe71d7c4f7d",
   "metadata": {},
   "outputs": [
    {
     "data": {
      "text/plain": [
       "Index([   90,   275,  1045,  1705,  1893,  2015,  2052,  2112,  2202,  2526,\n",
       "       ...\n",
       "       38890, 38917, 39476, 39927, 41869, 42071, 42252, 42824, 43105, 43343],\n",
       "      dtype='int64', length=151)"
      ]
     },
     "execution_count": 23,
     "metadata": {},
     "output_type": "execute_result"
    }
   ],
   "source": [
    "Q1 = np.percentile(df[\"Distance\"],25)\n",
    "Q3 = np.percentile(df[\"Distance\"],75)\n",
    "IQR = Q3 - Q1\n",
    "mini = Q1 - 1.5*IQR\n",
    "maxi = Q3 + 1.5*IQR\n",
    "mask = (df[\"Distance\"] < mini) | (df[\"Distance\"] > maxi)\n",
    "df[mask].index"
   ]
  },
  {
   "cell_type": "code",
   "execution_count": 24,
   "id": "c8340545-f344-48f7-8260-f025dfa5e606",
   "metadata": {},
   "outputs": [],
   "source": [
    "df.drop(index = df[mask].index, inplace = True)"
   ]
  },
  {
   "cell_type": "code",
   "execution_count": 25,
   "id": "5c0668a8-98f7-4d71-8014-e87e4cf163b6",
   "metadata": {},
   "outputs": [],
   "source": [
    "Q1 = np.percentile(df[\"Delivery_Time\"],25)\n",
    "Q3 = np.percentile(df[\"Delivery_Time\"],75)\n",
    "IQR = Q3 - Q1\n",
    "mini = Q1 - 1.5*IQR\n",
    "maxi = Q3 + 1.5*IQR\n",
    "mask = (df[\"Delivery_Time\"] < mini) | (df[\"Delivery_Time\"] > maxi)\n",
    "df[mask].index\n",
    "df.drop(index = df[mask].index, inplace = True)"
   ]
  },
  {
   "cell_type": "markdown",
   "id": "fc22bd2f-8a3e-4627-a6b1-1ba69de9e42a",
   "metadata": {},
   "source": [
    "We are only going to handle distance and delivery time outliers, rest should be fine, because it is normal to give bad ratings for delivery agent"
   ]
  },
  {
   "cell_type": "code",
   "execution_count": 26,
   "id": "b6e4985f-711f-4d55-9cb8-2653cca06320",
   "metadata": {},
   "outputs": [
    {
     "data": {
      "image/png": "[encoded data removed]",
      "text/plain": [
       "<Figure size 1200x1000 with 5 Axes>"
      ]
     },
     "metadata": {},
     "output_type": "display_data"
    }
   ],
   "source": [
    "plt.figure(figsize=(12, 10))\n",
    "for i,col in enumerate(numeric_cols):\n",
    "    plt.subplot(3,2,i+1)\n",
    "    df[[col]].boxplot()\n",
    "plt.show()"
   ]
  },
  {
   "cell_type": "markdown",
   "id": "e9f9c4be-f427-4ce0-a9a1-fd6994d7d5e3",
   "metadata": {},
   "source": [
    "Handling typos"
   ]
  },
  {
   "cell_type": "code",
   "execution_count": 27,
   "id": "2959f7c9-106f-406e-9a72-dd3e07398432",
   "metadata": {},
   "outputs": [
    {
     "data": {
      "text/plain": [
       "Weather\n",
       "Fog           7395\n",
       "Stormy        7331\n",
       "Cloudy        7243\n",
       "Sandstorms    7198\n",
       "Windy         7172\n",
       "Sunny         7025\n",
       "Name: count, dtype: int64"
      ]
     },
     "execution_count": 27,
     "metadata": {},
     "output_type": "execute_result"
    }
   ],
   "source": [
    "df[\"Weather\"].value_counts()"
   ]
  },
  {
   "cell_type": "code",
   "execution_count": 28,
   "id": "6bffbcb6-95e0-480a-81d0-11f3d63a8a3b",
   "metadata": {},
   "outputs": [
    {
     "data": {
      "text/plain": [
       "Traffic\n",
       "Low        14918\n",
       "Jam        13590\n",
       "Medium     10584\n",
       "High        4272\n",
       "Name: count, dtype: int64"
      ]
     },
     "execution_count": 28,
     "metadata": {},
     "output_type": "execute_result"
    }
   ],
   "source": [
    "df[\"Traffic\"].value_counts()"
   ]
  },
  {
   "cell_type": "code",
   "execution_count": 29,
   "id": "3007ea3d-b0e9-4f6c-8aee-0bae638f2c93",
   "metadata": {},
   "outputs": [
    {
     "data": {
      "text/plain": [
       "Vehicle\n",
       "motorcycle     25315\n",
       "scooter        14545\n",
       "van             3504\n",
       "Name: count, dtype: int64"
      ]
     },
     "execution_count": 29,
     "metadata": {},
     "output_type": "execute_result"
    }
   ],
   "source": [
    "df[\"Vehicle\"].value_counts()"
   ]
  },
  {
   "cell_type": "code",
   "execution_count": 30,
   "id": "2d34a199-2f94-433c-85d1-c7b79580e4da",
   "metadata": {},
   "outputs": [
    {
     "data": {
      "text/plain": [
       "Area\n",
       "Metropolitian     32427\n",
       "Urban              9670\n",
       "Other              1131\n",
       "Semi-Urban          136\n",
       "Name: count, dtype: int64"
      ]
     },
     "execution_count": 30,
     "metadata": {},
     "output_type": "execute_result"
    }
   ],
   "source": [
    "df[\"Area\"].value_counts()"
   ]
  },
  {
   "cell_type": "code",
   "execution_count": 31,
   "id": "ec3007f3-db77-40e8-9909-6200426d02ea",
   "metadata": {},
   "outputs": [
    {
     "data": {
      "text/plain": [
       "Category\n",
       "Electronics     2830\n",
       "Books           2799\n",
       "Jewelry         2780\n",
       "Toys            2755\n",
       "Skincare        2751\n",
       "Snacks          2742\n",
       "Outdoors        2727\n",
       "Apparel         2706\n",
       "Sports          2691\n",
       "Grocery         2678\n",
       "Pet Supplies    2663\n",
       "Home            2659\n",
       "Cosmetics       2651\n",
       "Kitchen         2648\n",
       "Clothing        2645\n",
       "Shoes           2639\n",
       "Name: count, dtype: int64"
      ]
     },
     "execution_count": 31,
     "metadata": {},
     "output_type": "execute_result"
    }
   ],
   "source": [
    "df[\"Category\"].value_counts()"
   ]
  },
  {
   "cell_type": "markdown",
   "id": "33b68ee0-8c89-4af7-bc1d-c93fb69f22a2",
   "metadata": {},
   "source": [
    "No typos found"
   ]
  },
  {
   "cell_type": "code",
   "execution_count": 32,
   "id": "34d25656-aa8c-4972-94d8-b4bf216fb236",
   "metadata": {},
   "outputs": [
    {
     "name": "stdout",
     "output_type": "stream",
     "text": [
      "<class 'pandas.core.frame.DataFrame'>\n",
      "Index: 43364 entries, 0 to 43738\n",
      "Data columns (total 13 columns):\n",
      " #   Column         Non-Null Count  Dtype  \n",
      "---  ------         --------------  -----  \n",
      " 0   Agent_Age      43364 non-null  int64  \n",
      " 1   Agent_Rating   43364 non-null  float64\n",
      " 2   Order_Time     43364 non-null  object \n",
      " 3   Pickup_Time    43364 non-null  object \n",
      " 4   Weather        43364 non-null  object \n",
      " 5   Traffic        43364 non-null  object \n",
      " 6   Vehicle        43364 non-null  object \n",
      " 7   Area           43364 non-null  object \n",
      " 8   Delivery_Time  43364 non-null  int64  \n",
      " 9   Category       43364 non-null  object \n",
      " 10  Distance       43364 non-null  float64\n",
      " 11  Order_Day      43364 non-null  int32  \n",
      " 12  Order_Month    43364 non-null  object \n",
      "dtypes: float64(2), int32(1), int64(2), object(8)\n",
      "memory usage: 4.5+ MB\n"
     ]
    }
   ],
   "source": [
    "df.info()"
   ]
  },
  {
   "cell_type": "markdown",
   "id": "dc7014c8-7254-4025-a564-de54d475f148",
   "metadata": {},
   "source": [
    "## Variable Transformations"
   ]
  },
  {
   "cell_type": "code",
   "execution_count": 33,
   "id": "9779769c-e783-4b97-a99c-a5cce999ff75",
   "metadata": {},
   "outputs": [
    {
     "data": {
      "text/plain": [
       "{'Area',\n",
       " 'Category',\n",
       " 'Order_Month',\n",
       " 'Order_Time',\n",
       " 'Pickup_Time',\n",
       " 'Traffic',\n",
       " 'Vehicle',\n",
       " 'Weather'}"
      ]
     },
     "execution_count": 33,
     "metadata": {},
     "output_type": "execute_result"
    }
   ],
   "source": [
    "all_cols = set(df.columns)\n",
    "numeric_cols = set(df.select_dtypes(include = [\"int64\",\"int32\",\"float64\"]).columns)\n",
    "categorical_cols = all_cols - numeric_cols\n",
    "categorical_cols"
   ]
  },
  {
   "cell_type": "code",
   "execution_count": 34,
   "id": "6bc2ade7-3962-41fc-b7fd-0047bc87247f",
   "metadata": {},
   "outputs": [
    {
     "data": {
      "text/plain": [
       "{'Agent_Age', 'Agent_Rating', 'Delivery_Time', 'Distance', 'Order_Day'}"
      ]
     },
     "execution_count": 34,
     "metadata": {},
     "output_type": "execute_result"
    }
   ],
   "source": [
    "numeric_cols"
   ]
  },
  {
   "cell_type": "code",
   "execution_count": 35,
   "id": "08ce45e7-dbe3-464b-8430-5f7cf1d3f78f",
   "metadata": {},
   "outputs": [],
   "source": [
    "cols_to_be_transformed = list(categorical_cols)"
   ]
  },
  {
   "cell_type": "code",
   "execution_count": 36,
   "id": "ae23470f-055d-448b-ae77-33cf3acaefe5",
   "metadata": {},
   "outputs": [
    {
     "data": {
      "text/html": [
       "<div>\n",
       "<style scoped>\n",
       "    .dataframe tbody tr th:only-of-type {\n",
       "        vertical-align: middle;\n",
       "    }\n",
       "\n",
       "    .dataframe tbody tr th {\n",
       "        vertical-align: top;\n",
       "    }\n",
       "\n",
       "    .dataframe thead th {\n",
       "        text-align: right;\n",
       "    }\n",
       "</style>\n",
       "<table border=\"1\" class=\"dataframe\">\n",
       "  <thead>\n",
       "    <tr style=\"text-align: right;\">\n",
       "      <th></th>\n",
       "      <th>Traffic</th>\n",
       "      <th>Pickup_Time</th>\n",
       "      <th>Vehicle</th>\n",
       "      <th>Weather</th>\n",
       "      <th>Order_Month</th>\n",
       "      <th>Order_Time</th>\n",
       "      <th>Category</th>\n",
       "      <th>Area</th>\n",
       "    </tr>\n",
       "  </thead>\n",
       "  <tbody>\n",
       "    <tr>\n",
       "      <th>0</th>\n",
       "      <td>High</td>\n",
       "      <td>11:45:00</td>\n",
       "      <td>motorcycle</td>\n",
       "      <td>Sunny</td>\n",
       "      <td>March</td>\n",
       "      <td>11:30:00</td>\n",
       "      <td>Clothing</td>\n",
       "      <td>Urban</td>\n",
       "    </tr>\n",
       "    <tr>\n",
       "      <th>1</th>\n",
       "      <td>Jam</td>\n",
       "      <td>19:50:00</td>\n",
       "      <td>scooter</td>\n",
       "      <td>Stormy</td>\n",
       "      <td>March</td>\n",
       "      <td>19:45:00</td>\n",
       "      <td>Electronics</td>\n",
       "      <td>Metropolitian</td>\n",
       "    </tr>\n",
       "    <tr>\n",
       "      <th>2</th>\n",
       "      <td>Low</td>\n",
       "      <td>08:45:00</td>\n",
       "      <td>motorcycle</td>\n",
       "      <td>Sandstorms</td>\n",
       "      <td>March</td>\n",
       "      <td>08:30:00</td>\n",
       "      <td>Sports</td>\n",
       "      <td>Urban</td>\n",
       "    </tr>\n",
       "    <tr>\n",
       "      <th>3</th>\n",
       "      <td>Medium</td>\n",
       "      <td>18:10:00</td>\n",
       "      <td>motorcycle</td>\n",
       "      <td>Sunny</td>\n",
       "      <td>April</td>\n",
       "      <td>18:00:00</td>\n",
       "      <td>Cosmetics</td>\n",
       "      <td>Metropolitian</td>\n",
       "    </tr>\n",
       "    <tr>\n",
       "      <th>4</th>\n",
       "      <td>High</td>\n",
       "      <td>13:45:00</td>\n",
       "      <td>scooter</td>\n",
       "      <td>Cloudy</td>\n",
       "      <td>March</td>\n",
       "      <td>13:30:00</td>\n",
       "      <td>Toys</td>\n",
       "      <td>Metropolitian</td>\n",
       "    </tr>\n",
       "  </tbody>\n",
       "</table>\n",
       "</div>"
      ],
      "text/plain": [
       "   Traffic Pickup_Time      Vehicle     Weather Order_Month Order_Time  \\\n",
       "0    High     11:45:00  motorcycle        Sunny       March   11:30:00   \n",
       "1     Jam     19:50:00     scooter       Stormy       March   19:45:00   \n",
       "2     Low     08:45:00  motorcycle   Sandstorms       March   08:30:00   \n",
       "3  Medium     18:10:00  motorcycle        Sunny       April   18:00:00   \n",
       "4    High     13:45:00     scooter       Cloudy       March   13:30:00   \n",
       "\n",
       "      Category            Area  \n",
       "0     Clothing          Urban   \n",
       "1  Electronics  Metropolitian   \n",
       "2       Sports          Urban   \n",
       "3    Cosmetics  Metropolitian   \n",
       "4         Toys  Metropolitian   "
      ]
     },
     "execution_count": 36,
     "metadata": {},
     "output_type": "execute_result"
    }
   ],
   "source": [
    "df[cols_to_be_transformed].head()"
   ]
  },
  {
   "cell_type": "code",
   "execution_count": 37,
   "id": "a77b64d6-0103-4294-a78f-fb02eedcea49",
   "metadata": {},
   "outputs": [
    {
     "data": {
      "text/plain": [
       "Weather\n",
       "Fog           7395\n",
       "Stormy        7331\n",
       "Cloudy        7243\n",
       "Sandstorms    7198\n",
       "Windy         7172\n",
       "Sunny         7025\n",
       "Name: count, dtype: int64"
      ]
     },
     "execution_count": 37,
     "metadata": {},
     "output_type": "execute_result"
    }
   ],
   "source": [
    "df[\"Weather\"].value_counts()"
   ]
  },
  {
   "cell_type": "code",
   "execution_count": 38,
   "id": "fe04e4b5-6ee4-4a76-a219-98abec095cfb",
   "metadata": {},
   "outputs": [
    {
     "data": {
      "image/png": "[encoded data removed]",
      "text/plain": [
       "<Figure size 640x480 with 1 Axes>"
      ]
     },
     "metadata": {},
     "output_type": "display_data"
    }
   ],
   "source": [
    "df.groupby(\"Weather\")[\"Delivery_Time\"].mean().to_frame().sort_values(by = \"Delivery_Time\").plot(kind = \"bar\")\n",
    "plt.show()"
   ]
  },
  {
   "cell_type": "code",
   "execution_count": 39,
   "id": "a0ae6e2a-375c-4b45-8f27-1ecb089ad326",
   "metadata": {},
   "outputs": [
    {
     "data": {
      "image/png": "[encoded data removed]",
      "text/plain": [
       "<Figure size 640x480 with 1 Axes>"
      ]
     },
     "metadata": {},
     "output_type": "display_data"
    }
   ],
   "source": [
    "df.groupby(\"Weather\")[\"Delivery_Time\"].median().to_frame().sort_values(by = \"Delivery_Time\").plot(kind = \"bar\")\n",
    "plt.show()"
   ]
  },
  {
   "cell_type": "code",
   "execution_count": 40,
   "id": "97ddb37e-2d81-45cd-940f-2335e0f50953",
   "metadata": {},
   "outputs": [
    {
     "name": "stderr",
     "output_type": "stream",
     "text": [
      "C:\\Users\\Rishwanth J V K\\AppData\\Local\\Temp\\ipykernel_18384\\2995181197.py:2: FutureWarning: Downcasting behavior in `replace` is deprecated and will be removed in a future version. To retain the old behavior, explicitly call `result.infer_objects(copy=False)`. To opt-in to the future behavior, set `pd.set_option('future.no_silent_downcasting', True)`\n",
      "  weather.replace({True: 1, False: 0},inplace = True)\n"
     ]
    },
    {
     "data": {
      "text/html": [
       "<div>\n",
       "<style scoped>\n",
       "    .dataframe tbody tr th:only-of-type {\n",
       "        vertical-align: middle;\n",
       "    }\n",
       "\n",
       "    .dataframe tbody tr th {\n",
       "        vertical-align: top;\n",
       "    }\n",
       "\n",
       "    .dataframe thead th {\n",
       "        text-align: right;\n",
       "    }\n",
       "</style>\n",
       "<table border=\"1\" class=\"dataframe\">\n",
       "  <thead>\n",
       "    <tr style=\"text-align: right;\">\n",
       "      <th></th>\n",
       "      <th>Agent_Age</th>\n",
       "      <th>Agent_Rating</th>\n",
       "      <th>Order_Time</th>\n",
       "      <th>Pickup_Time</th>\n",
       "      <th>Traffic</th>\n",
       "      <th>Vehicle</th>\n",
       "      <th>Area</th>\n",
       "      <th>Delivery_Time</th>\n",
       "      <th>Category</th>\n",
       "      <th>Distance</th>\n",
       "      <th>Order_Day</th>\n",
       "      <th>Order_Month</th>\n",
       "      <th>Cloudy</th>\n",
       "      <th>Fog</th>\n",
       "      <th>Sandstorms</th>\n",
       "      <th>Stormy</th>\n",
       "      <th>Sunny</th>\n",
       "      <th>Windy</th>\n",
       "    </tr>\n",
       "  </thead>\n",
       "  <tbody>\n",
       "    <tr>\n",
       "      <th>0</th>\n",
       "      <td>37</td>\n",
       "      <td>4.9</td>\n",
       "      <td>11:30:00</td>\n",
       "      <td>11:45:00</td>\n",
       "      <td>High</td>\n",
       "      <td>motorcycle</td>\n",
       "      <td>Urban</td>\n",
       "      <td>120</td>\n",
       "      <td>Clothing</td>\n",
       "      <td>3.025149</td>\n",
       "      <td>5</td>\n",
       "      <td>March</td>\n",
       "      <td>0</td>\n",
       "      <td>0</td>\n",
       "      <td>0</td>\n",
       "      <td>0</td>\n",
       "      <td>1</td>\n",
       "      <td>0</td>\n",
       "    </tr>\n",
       "    <tr>\n",
       "      <th>1</th>\n",
       "      <td>34</td>\n",
       "      <td>4.5</td>\n",
       "      <td>19:45:00</td>\n",
       "      <td>19:50:00</td>\n",
       "      <td>Jam</td>\n",
       "      <td>scooter</td>\n",
       "      <td>Metropolitian</td>\n",
       "      <td>165</td>\n",
       "      <td>Electronics</td>\n",
       "      <td>20.183530</td>\n",
       "      <td>4</td>\n",
       "      <td>March</td>\n",
       "      <td>0</td>\n",
       "      <td>0</td>\n",
       "      <td>0</td>\n",
       "      <td>1</td>\n",
       "      <td>0</td>\n",
       "      <td>0</td>\n",
       "    </tr>\n",
       "    <tr>\n",
       "      <th>2</th>\n",
       "      <td>23</td>\n",
       "      <td>4.4</td>\n",
       "      <td>08:30:00</td>\n",
       "      <td>08:45:00</td>\n",
       "      <td>Low</td>\n",
       "      <td>motorcycle</td>\n",
       "      <td>Urban</td>\n",
       "      <td>130</td>\n",
       "      <td>Sports</td>\n",
       "      <td>1.552758</td>\n",
       "      <td>5</td>\n",
       "      <td>March</td>\n",
       "      <td>0</td>\n",
       "      <td>0</td>\n",
       "      <td>1</td>\n",
       "      <td>0</td>\n",
       "      <td>0</td>\n",
       "      <td>0</td>\n",
       "    </tr>\n",
       "    <tr>\n",
       "      <th>3</th>\n",
       "      <td>38</td>\n",
       "      <td>4.7</td>\n",
       "      <td>18:00:00</td>\n",
       "      <td>18:10:00</td>\n",
       "      <td>Medium</td>\n",
       "      <td>motorcycle</td>\n",
       "      <td>Metropolitian</td>\n",
       "      <td>105</td>\n",
       "      <td>Cosmetics</td>\n",
       "      <td>7.790401</td>\n",
       "      <td>1</td>\n",
       "      <td>April</td>\n",
       "      <td>0</td>\n",
       "      <td>0</td>\n",
       "      <td>0</td>\n",
       "      <td>0</td>\n",
       "      <td>1</td>\n",
       "      <td>0</td>\n",
       "    </tr>\n",
       "    <tr>\n",
       "      <th>4</th>\n",
       "      <td>32</td>\n",
       "      <td>4.6</td>\n",
       "      <td>13:30:00</td>\n",
       "      <td>13:45:00</td>\n",
       "      <td>High</td>\n",
       "      <td>scooter</td>\n",
       "      <td>Metropolitian</td>\n",
       "      <td>150</td>\n",
       "      <td>Toys</td>\n",
       "      <td>6.210138</td>\n",
       "      <td>5</td>\n",
       "      <td>March</td>\n",
       "      <td>1</td>\n",
       "      <td>0</td>\n",
       "      <td>0</td>\n",
       "      <td>0</td>\n",
       "      <td>0</td>\n",
       "      <td>0</td>\n",
       "    </tr>\n",
       "  </tbody>\n",
       "</table>\n",
       "</div>"
      ],
      "text/plain": [
       "   Agent_Age  Agent_Rating Order_Time Pickup_Time  Traffic      Vehicle  \\\n",
       "0         37           4.9   11:30:00    11:45:00    High   motorcycle    \n",
       "1         34           4.5   19:45:00    19:50:00     Jam      scooter    \n",
       "2         23           4.4   08:30:00    08:45:00     Low   motorcycle    \n",
       "3         38           4.7   18:00:00    18:10:00  Medium   motorcycle    \n",
       "4         32           4.6   13:30:00    13:45:00    High      scooter    \n",
       "\n",
       "             Area  Delivery_Time     Category   Distance  Order_Day  \\\n",
       "0          Urban             120     Clothing   3.025149          5   \n",
       "1  Metropolitian             165  Electronics  20.183530          4   \n",
       "2          Urban             130       Sports   1.552758          5   \n",
       "3  Metropolitian             105    Cosmetics   7.790401          1   \n",
       "4  Metropolitian             150         Toys   6.210138          5   \n",
       "\n",
       "  Order_Month  Cloudy  Fog  Sandstorms  Stormy  Sunny  Windy  \n",
       "0       March       0    0           0       0      1      0  \n",
       "1       March       0    0           0       1      0      0  \n",
       "2       March       0    0           1       0      0      0  \n",
       "3       April       0    0           0       0      1      0  \n",
       "4       March       1    0           0       0      0      0  "
      ]
     },
     "execution_count": 40,
     "metadata": {},
     "output_type": "execute_result"
    }
   ],
   "source": [
    "weather = pd.get_dummies(df[\"Weather\"])\n",
    "weather.replace({True: 1, False: 0},inplace = True)\n",
    "df = pd.concat([df,weather], axis = 1)\n",
    "df.drop(columns = [\"Weather\"], inplace = True)\n",
    "df.head()"
   ]
  },
  {
   "cell_type": "code",
   "execution_count": 41,
   "id": "764ec5a6-e5b0-4f5e-9711-9a7b57a98c5b",
   "metadata": {},
   "outputs": [
    {
     "data": {
      "image/png": "[encoded data removed]",
      "text/plain": [
       "<Figure size 640x480 with 1 Axes>"
      ]
     },
     "metadata": {},
     "output_type": "display_data"
    }
   ],
   "source": [
    "df.groupby(\"Category\")[\"Delivery_Time\"].mean().to_frame().sort_values(by = \"Delivery_Time\").plot(kind = \"bar\")\n",
    "plt.show()"
   ]
  },
  {
   "cell_type": "code",
   "execution_count": 42,
   "id": "813372d6-23e8-4d64-b590-609215dfceda",
   "metadata": {},
   "outputs": [
    {
     "data": {
      "text/plain": [
       "Category\n",
       "Electronics     2830\n",
       "Books           2799\n",
       "Jewelry         2780\n",
       "Toys            2755\n",
       "Skincare        2751\n",
       "Snacks          2742\n",
       "Outdoors        2727\n",
       "Apparel         2706\n",
       "Sports          2691\n",
       "Grocery         2678\n",
       "Pet Supplies    2663\n",
       "Home            2659\n",
       "Cosmetics       2651\n",
       "Kitchen         2648\n",
       "Clothing        2645\n",
       "Shoes           2639\n",
       "Name: count, dtype: int64"
      ]
     },
     "execution_count": 42,
     "metadata": {},
     "output_type": "execute_result"
    }
   ],
   "source": [
    "df.Category.value_counts()"
   ]
  },
  {
   "cell_type": "markdown",
   "id": "c15ea304-2d46-4374-823c-833d1454a673",
   "metadata": {},
   "source": [
    "Here except for Grocery, all other categories take similar time, so I am categorizing it as grocery and non-grocery "
   ]
  },
  {
   "cell_type": "code",
   "execution_count": 43,
   "id": "09c12fce-d1bf-4705-93b9-2e0e9c8ad0ea",
   "metadata": {},
   "outputs": [],
   "source": [
    "df[\"Category\"] = np.where(df[\"Category\"] == \"Grocery\", 0, 1)"
   ]
  },
  {
   "cell_type": "code",
   "execution_count": 44,
   "id": "f5c9daf8-835c-4ad6-89a0-915deac8d675",
   "metadata": {},
   "outputs": [
    {
     "data": {
      "image/png": "[encoded data removed]",
      "text/plain": [
       "<Figure size 640x480 with 1 Axes>"
      ]
     },
     "metadata": {},
     "output_type": "display_data"
    }
   ],
   "source": [
    "df.groupby(\"Area\")[\"Delivery_Time\"].mean().to_frame().sort_values(by = \"Delivery_Time\").plot(kind = \"bar\")\n",
    "plt.show()"
   ]
  },
  {
   "cell_type": "code",
   "execution_count": 45,
   "id": "e9619292-71d8-44eb-bd95-8c7718cf04a5",
   "metadata": {},
   "outputs": [
    {
     "data": {
      "image/png": "[encoded data removed]",
      "text/plain": [
       "<Figure size 640x480 with 1 Axes>"
      ]
     },
     "metadata": {},
     "output_type": "display_data"
    }
   ],
   "source": [
    "df.groupby(\"Area\")[\"Delivery_Time\"].median().to_frame().sort_values(by = \"Delivery_Time\").plot(kind = \"bar\")\n",
    "plt.show()"
   ]
  },
  {
   "cell_type": "code",
   "execution_count": 46,
   "id": "17c3c740-f5ce-40be-bee7-e5d73a532798",
   "metadata": {},
   "outputs": [
    {
     "data": {
      "text/plain": [
       "Area\n",
       "Metropolitian     32427\n",
       "Urban              9670\n",
       "Other              1131\n",
       "Semi-Urban          136\n",
       "Name: count, dtype: int64"
      ]
     },
     "execution_count": 46,
     "metadata": {},
     "output_type": "execute_result"
    }
   ],
   "source": [
    "df.Area.value_counts()"
   ]
  },
  {
   "cell_type": "code",
   "execution_count": 47,
   "id": "72cb3b49-580b-48f0-8e5c-f39244da73bc",
   "metadata": {},
   "outputs": [],
   "source": [
    "df.Area.unique().tolist()\n",
    "df.Area = df.Area.str.strip()"
   ]
  },
  {
   "cell_type": "code",
   "execution_count": 48,
   "id": "d078540c-39df-4a2e-a93d-050e9d30c087",
   "metadata": {},
   "outputs": [
    {
     "name": "stderr",
     "output_type": "stream",
     "text": [
      "C:\\Users\\Rishwanth J V K\\AppData\\Local\\Temp\\ipykernel_18384\\1384935472.py:2: FutureWarning: Downcasting behavior in `replace` is deprecated and will be removed in a future version. To retain the old behavior, explicitly call `result.infer_objects(copy=False)`. To opt-in to the future behavior, set `pd.set_option('future.no_silent_downcasting', True)`\n",
      "  area.replace({True: 1, False: 0},inplace = True)\n"
     ]
    },
    {
     "data": {
      "text/html": [
       "<div>\n",
       "<style scoped>\n",
       "    .dataframe tbody tr th:only-of-type {\n",
       "        vertical-align: middle;\n",
       "    }\n",
       "\n",
       "    .dataframe tbody tr th {\n",
       "        vertical-align: top;\n",
       "    }\n",
       "\n",
       "    .dataframe thead th {\n",
       "        text-align: right;\n",
       "    }\n",
       "</style>\n",
       "<table border=\"1\" class=\"dataframe\">\n",
       "  <thead>\n",
       "    <tr style=\"text-align: right;\">\n",
       "      <th></th>\n",
       "      <th>Agent_Age</th>\n",
       "      <th>Agent_Rating</th>\n",
       "      <th>Order_Time</th>\n",
       "      <th>Pickup_Time</th>\n",
       "      <th>Traffic</th>\n",
       "      <th>Vehicle</th>\n",
       "      <th>Delivery_Time</th>\n",
       "      <th>Category</th>\n",
       "      <th>Distance</th>\n",
       "      <th>Order_Day</th>\n",
       "      <th>...</th>\n",
       "      <th>Cloudy</th>\n",
       "      <th>Fog</th>\n",
       "      <th>Sandstorms</th>\n",
       "      <th>Stormy</th>\n",
       "      <th>Sunny</th>\n",
       "      <th>Windy</th>\n",
       "      <th>Metropolitian</th>\n",
       "      <th>Other</th>\n",
       "      <th>Semi-Urban</th>\n",
       "      <th>Urban</th>\n",
       "    </tr>\n",
       "  </thead>\n",
       "  <tbody>\n",
       "    <tr>\n",
       "      <th>0</th>\n",
       "      <td>37</td>\n",
       "      <td>4.9</td>\n",
       "      <td>11:30:00</td>\n",
       "      <td>11:45:00</td>\n",
       "      <td>High</td>\n",
       "      <td>motorcycle</td>\n",
       "      <td>120</td>\n",
       "      <td>1</td>\n",
       "      <td>3.025149</td>\n",
       "      <td>5</td>\n",
       "      <td>...</td>\n",
       "      <td>0</td>\n",
       "      <td>0</td>\n",
       "      <td>0</td>\n",
       "      <td>0</td>\n",
       "      <td>1</td>\n",
       "      <td>0</td>\n",
       "      <td>0</td>\n",
       "      <td>0</td>\n",
       "      <td>0</td>\n",
       "      <td>1</td>\n",
       "    </tr>\n",
       "    <tr>\n",
       "      <th>1</th>\n",
       "      <td>34</td>\n",
       "      <td>4.5</td>\n",
       "      <td>19:45:00</td>\n",
       "      <td>19:50:00</td>\n",
       "      <td>Jam</td>\n",
       "      <td>scooter</td>\n",
       "      <td>165</td>\n",
       "      <td>1</td>\n",
       "      <td>20.183530</td>\n",
       "      <td>4</td>\n",
       "      <td>...</td>\n",
       "      <td>0</td>\n",
       "      <td>0</td>\n",
       "      <td>0</td>\n",
       "      <td>1</td>\n",
       "      <td>0</td>\n",
       "      <td>0</td>\n",
       "      <td>1</td>\n",
       "      <td>0</td>\n",
       "      <td>0</td>\n",
       "      <td>0</td>\n",
       "    </tr>\n",
       "    <tr>\n",
       "      <th>2</th>\n",
       "      <td>23</td>\n",
       "      <td>4.4</td>\n",
       "      <td>08:30:00</td>\n",
       "      <td>08:45:00</td>\n",
       "      <td>Low</td>\n",
       "      <td>motorcycle</td>\n",
       "      <td>130</td>\n",
       "      <td>1</td>\n",
       "      <td>1.552758</td>\n",
       "      <td>5</td>\n",
       "      <td>...</td>\n",
       "      <td>0</td>\n",
       "      <td>0</td>\n",
       "      <td>1</td>\n",
       "      <td>0</td>\n",
       "      <td>0</td>\n",
       "      <td>0</td>\n",
       "      <td>0</td>\n",
       "      <td>0</td>\n",
       "      <td>0</td>\n",
       "      <td>1</td>\n",
       "    </tr>\n",
       "    <tr>\n",
       "      <th>3</th>\n",
       "      <td>38</td>\n",
       "      <td>4.7</td>\n",
       "      <td>18:00:00</td>\n",
       "      <td>18:10:00</td>\n",
       "      <td>Medium</td>\n",
       "      <td>motorcycle</td>\n",
       "      <td>105</td>\n",
       "      <td>1</td>\n",
       "      <td>7.790401</td>\n",
       "      <td>1</td>\n",
       "      <td>...</td>\n",
       "      <td>0</td>\n",
       "      <td>0</td>\n",
       "      <td>0</td>\n",
       "      <td>0</td>\n",
       "      <td>1</td>\n",
       "      <td>0</td>\n",
       "      <td>1</td>\n",
       "      <td>0</td>\n",
       "      <td>0</td>\n",
       "      <td>0</td>\n",
       "    </tr>\n",
       "    <tr>\n",
       "      <th>4</th>\n",
       "      <td>32</td>\n",
       "      <td>4.6</td>\n",
       "      <td>13:30:00</td>\n",
       "      <td>13:45:00</td>\n",
       "      <td>High</td>\n",
       "      <td>scooter</td>\n",
       "      <td>150</td>\n",
       "      <td>1</td>\n",
       "      <td>6.210138</td>\n",
       "      <td>5</td>\n",
       "      <td>...</td>\n",
       "      <td>1</td>\n",
       "      <td>0</td>\n",
       "      <td>0</td>\n",
       "      <td>0</td>\n",
       "      <td>0</td>\n",
       "      <td>0</td>\n",
       "      <td>1</td>\n",
       "      <td>0</td>\n",
       "      <td>0</td>\n",
       "      <td>0</td>\n",
       "    </tr>\n",
       "  </tbody>\n",
       "</table>\n",
       "<p>5 rows × 21 columns</p>\n",
       "</div>"
      ],
      "text/plain": [
       "   Agent_Age  Agent_Rating Order_Time Pickup_Time  Traffic      Vehicle  \\\n",
       "0         37           4.9   11:30:00    11:45:00    High   motorcycle    \n",
       "1         34           4.5   19:45:00    19:50:00     Jam      scooter    \n",
       "2         23           4.4   08:30:00    08:45:00     Low   motorcycle    \n",
       "3         38           4.7   18:00:00    18:10:00  Medium   motorcycle    \n",
       "4         32           4.6   13:30:00    13:45:00    High      scooter    \n",
       "\n",
       "   Delivery_Time  Category   Distance  Order_Day  ... Cloudy  Fog  Sandstorms  \\\n",
       "0            120         1   3.025149          5  ...      0    0           0   \n",
       "1            165         1  20.183530          4  ...      0    0           0   \n",
       "2            130         1   1.552758          5  ...      0    0           1   \n",
       "3            105         1   7.790401          1  ...      0    0           0   \n",
       "4            150         1   6.210138          5  ...      1    0           0   \n",
       "\n",
       "   Stormy  Sunny  Windy  Metropolitian  Other  Semi-Urban  Urban  \n",
       "0       0      1      0              0      0           0      1  \n",
       "1       1      0      0              1      0           0      0  \n",
       "2       0      0      0              0      0           0      1  \n",
       "3       0      1      0              1      0           0      0  \n",
       "4       0      0      0              1      0           0      0  \n",
       "\n",
       "[5 rows x 21 columns]"
      ]
     },
     "execution_count": 48,
     "metadata": {},
     "output_type": "execute_result"
    }
   ],
   "source": [
    "area = pd.get_dummies(df[\"Area\"])\n",
    "area.replace({True: 1, False: 0},inplace = True)\n",
    "df = pd.concat([df,area], axis = 1)\n",
    "df.drop(columns = [\"Area\"], inplace = True)\n",
    "df.head()"
   ]
  },
  {
   "cell_type": "code",
   "execution_count": 49,
   "id": "de881aef-4e90-4762-bdad-dd358a0bd581",
   "metadata": {},
   "outputs": [
    {
     "data": {
      "text/html": [
       "<div>\n",
       "<style scoped>\n",
       "    .dataframe tbody tr th:only-of-type {\n",
       "        vertical-align: middle;\n",
       "    }\n",
       "\n",
       "    .dataframe tbody tr th {\n",
       "        vertical-align: top;\n",
       "    }\n",
       "\n",
       "    .dataframe thead th {\n",
       "        text-align: right;\n",
       "    }\n",
       "</style>\n",
       "<table border=\"1\" class=\"dataframe\">\n",
       "  <thead>\n",
       "    <tr style=\"text-align: right;\">\n",
       "      <th></th>\n",
       "      <th>Delivery_Time</th>\n",
       "    </tr>\n",
       "    <tr>\n",
       "      <th>Traffic</th>\n",
       "      <th></th>\n",
       "    </tr>\n",
       "  </thead>\n",
       "  <tbody>\n",
       "    <tr>\n",
       "      <th>Low</th>\n",
       "      <td>101.365129</td>\n",
       "    </tr>\n",
       "    <tr>\n",
       "      <th>Medium</th>\n",
       "      <td>126.850151</td>\n",
       "    </tr>\n",
       "    <tr>\n",
       "      <th>High</th>\n",
       "      <td>129.262406</td>\n",
       "    </tr>\n",
       "    <tr>\n",
       "      <th>Jam</th>\n",
       "      <td>147.114054</td>\n",
       "    </tr>\n",
       "  </tbody>\n",
       "</table>\n",
       "</div>"
      ],
      "text/plain": [
       "         Delivery_Time\n",
       "Traffic               \n",
       "Low         101.365129\n",
       "Medium      126.850151\n",
       "High        129.262406\n",
       "Jam         147.114054"
      ]
     },
     "execution_count": 49,
     "metadata": {},
     "output_type": "execute_result"
    }
   ],
   "source": [
    "df.groupby(\"Traffic\")[\"Delivery_Time\"].mean().to_frame().sort_values(by = \"Delivery_Time\")"
   ]
  },
  {
   "cell_type": "code",
   "execution_count": 50,
   "id": "c2f2ac9c-199d-4e46-8140-930e2b944409",
   "metadata": {},
   "outputs": [],
   "source": [
    "df.Traffic = df.Traffic.str.strip()"
   ]
  },
  {
   "cell_type": "code",
   "execution_count": 51,
   "id": "50ef29ea-4d56-4b77-a0b2-76f163f463c7",
   "metadata": {},
   "outputs": [
    {
     "data": {
      "text/plain": [
       "['High', 'Jam', 'Low', 'Medium']"
      ]
     },
     "execution_count": 51,
     "metadata": {},
     "output_type": "execute_result"
    }
   ],
   "source": [
    "df.Traffic.unique().tolist()"
   ]
  },
  {
   "cell_type": "code",
   "execution_count": 52,
   "id": "61a56f35-8de5-4d99-a1b9-09fe642813fb",
   "metadata": {},
   "outputs": [
    {
     "data": {
      "text/plain": [
       "Traffic\n",
       "Low       14918\n",
       "Jam       13590\n",
       "Medium    10584\n",
       "High       4272\n",
       "Name: count, dtype: int64"
      ]
     },
     "execution_count": 52,
     "metadata": {},
     "output_type": "execute_result"
    }
   ],
   "source": [
    "df.Traffic.value_counts()"
   ]
  },
  {
   "cell_type": "code",
   "execution_count": 53,
   "id": "10432e20-87ba-4001-ace6-2bb9f39cf719",
   "metadata": {},
   "outputs": [],
   "source": [
    "oe = OrdinalEncoder(categories = [[\"Low\",'Medium','High','Jam']])\n",
    "\n",
    "df[\"Traffic\"] = pd.Series(\n",
    "    oe.fit_transform(df[[\"Traffic\"]]).flatten(),\n",
    "    index=df.index\n",
    ")\n"
   ]
  },
  {
   "cell_type": "code",
   "execution_count": 54,
   "id": "4c38b7cb-6f92-4d76-9065-01634347cc19",
   "metadata": {},
   "outputs": [
    {
     "data": {
      "text/html": [
       "<div>\n",
       "<style scoped>\n",
       "    .dataframe tbody tr th:only-of-type {\n",
       "        vertical-align: middle;\n",
       "    }\n",
       "\n",
       "    .dataframe tbody tr th {\n",
       "        vertical-align: top;\n",
       "    }\n",
       "\n",
       "    .dataframe thead th {\n",
       "        text-align: right;\n",
       "    }\n",
       "</style>\n",
       "<table border=\"1\" class=\"dataframe\">\n",
       "  <thead>\n",
       "    <tr style=\"text-align: right;\">\n",
       "      <th></th>\n",
       "      <th>Agent_Age</th>\n",
       "      <th>Agent_Rating</th>\n",
       "      <th>Order_Time</th>\n",
       "      <th>Pickup_Time</th>\n",
       "      <th>Traffic</th>\n",
       "      <th>Vehicle</th>\n",
       "      <th>Delivery_Time</th>\n",
       "      <th>Category</th>\n",
       "      <th>Distance</th>\n",
       "      <th>Order_Day</th>\n",
       "      <th>...</th>\n",
       "      <th>Cloudy</th>\n",
       "      <th>Fog</th>\n",
       "      <th>Sandstorms</th>\n",
       "      <th>Stormy</th>\n",
       "      <th>Sunny</th>\n",
       "      <th>Windy</th>\n",
       "      <th>Metropolitian</th>\n",
       "      <th>Other</th>\n",
       "      <th>Semi-Urban</th>\n",
       "      <th>Urban</th>\n",
       "    </tr>\n",
       "  </thead>\n",
       "  <tbody>\n",
       "    <tr>\n",
       "      <th>0</th>\n",
       "      <td>37</td>\n",
       "      <td>4.9</td>\n",
       "      <td>11:30:00</td>\n",
       "      <td>11:45:00</td>\n",
       "      <td>2.0</td>\n",
       "      <td>motorcycle</td>\n",
       "      <td>120</td>\n",
       "      <td>1</td>\n",
       "      <td>3.025149</td>\n",
       "      <td>5</td>\n",
       "      <td>...</td>\n",
       "      <td>0</td>\n",
       "      <td>0</td>\n",
       "      <td>0</td>\n",
       "      <td>0</td>\n",
       "      <td>1</td>\n",
       "      <td>0</td>\n",
       "      <td>0</td>\n",
       "      <td>0</td>\n",
       "      <td>0</td>\n",
       "      <td>1</td>\n",
       "    </tr>\n",
       "    <tr>\n",
       "      <th>1</th>\n",
       "      <td>34</td>\n",
       "      <td>4.5</td>\n",
       "      <td>19:45:00</td>\n",
       "      <td>19:50:00</td>\n",
       "      <td>3.0</td>\n",
       "      <td>scooter</td>\n",
       "      <td>165</td>\n",
       "      <td>1</td>\n",
       "      <td>20.183530</td>\n",
       "      <td>4</td>\n",
       "      <td>...</td>\n",
       "      <td>0</td>\n",
       "      <td>0</td>\n",
       "      <td>0</td>\n",
       "      <td>1</td>\n",
       "      <td>0</td>\n",
       "      <td>0</td>\n",
       "      <td>1</td>\n",
       "      <td>0</td>\n",
       "      <td>0</td>\n",
       "      <td>0</td>\n",
       "    </tr>\n",
       "    <tr>\n",
       "      <th>2</th>\n",
       "      <td>23</td>\n",
       "      <td>4.4</td>\n",
       "      <td>08:30:00</td>\n",
       "      <td>08:45:00</td>\n",
       "      <td>0.0</td>\n",
       "      <td>motorcycle</td>\n",
       "      <td>130</td>\n",
       "      <td>1</td>\n",
       "      <td>1.552758</td>\n",
       "      <td>5</td>\n",
       "      <td>...</td>\n",
       "      <td>0</td>\n",
       "      <td>0</td>\n",
       "      <td>1</td>\n",
       "      <td>0</td>\n",
       "      <td>0</td>\n",
       "      <td>0</td>\n",
       "      <td>0</td>\n",
       "      <td>0</td>\n",
       "      <td>0</td>\n",
       "      <td>1</td>\n",
       "    </tr>\n",
       "    <tr>\n",
       "      <th>3</th>\n",
       "      <td>38</td>\n",
       "      <td>4.7</td>\n",
       "      <td>18:00:00</td>\n",
       "      <td>18:10:00</td>\n",
       "      <td>1.0</td>\n",
       "      <td>motorcycle</td>\n",
       "      <td>105</td>\n",
       "      <td>1</td>\n",
       "      <td>7.790401</td>\n",
       "      <td>1</td>\n",
       "      <td>...</td>\n",
       "      <td>0</td>\n",
       "      <td>0</td>\n",
       "      <td>0</td>\n",
       "      <td>0</td>\n",
       "      <td>1</td>\n",
       "      <td>0</td>\n",
       "      <td>1</td>\n",
       "      <td>0</td>\n",
       "      <td>0</td>\n",
       "      <td>0</td>\n",
       "    </tr>\n",
       "    <tr>\n",
       "      <th>4</th>\n",
       "      <td>32</td>\n",
       "      <td>4.6</td>\n",
       "      <td>13:30:00</td>\n",
       "      <td>13:45:00</td>\n",
       "      <td>2.0</td>\n",
       "      <td>scooter</td>\n",
       "      <td>150</td>\n",
       "      <td>1</td>\n",
       "      <td>6.210138</td>\n",
       "      <td>5</td>\n",
       "      <td>...</td>\n",
       "      <td>1</td>\n",
       "      <td>0</td>\n",
       "      <td>0</td>\n",
       "      <td>0</td>\n",
       "      <td>0</td>\n",
       "      <td>0</td>\n",
       "      <td>1</td>\n",
       "      <td>0</td>\n",
       "      <td>0</td>\n",
       "      <td>0</td>\n",
       "    </tr>\n",
       "  </tbody>\n",
       "</table>\n",
       "<p>5 rows × 21 columns</p>\n",
       "</div>"
      ],
      "text/plain": [
       "   Agent_Age  Agent_Rating Order_Time Pickup_Time  Traffic      Vehicle  \\\n",
       "0         37           4.9   11:30:00    11:45:00      2.0  motorcycle    \n",
       "1         34           4.5   19:45:00    19:50:00      3.0     scooter    \n",
       "2         23           4.4   08:30:00    08:45:00      0.0  motorcycle    \n",
       "3         38           4.7   18:00:00    18:10:00      1.0  motorcycle    \n",
       "4         32           4.6   13:30:00    13:45:00      2.0     scooter    \n",
       "\n",
       "   Delivery_Time  Category   Distance  Order_Day  ... Cloudy  Fog  Sandstorms  \\\n",
       "0            120         1   3.025149          5  ...      0    0           0   \n",
       "1            165         1  20.183530          4  ...      0    0           0   \n",
       "2            130         1   1.552758          5  ...      0    0           1   \n",
       "3            105         1   7.790401          1  ...      0    0           0   \n",
       "4            150         1   6.210138          5  ...      1    0           0   \n",
       "\n",
       "   Stormy  Sunny  Windy  Metropolitian  Other  Semi-Urban  Urban  \n",
       "0       0      1      0              0      0           0      1  \n",
       "1       1      0      0              1      0           0      0  \n",
       "2       0      0      0              0      0           0      1  \n",
       "3       0      1      0              1      0           0      0  \n",
       "4       0      0      0              1      0           0      0  \n",
       "\n",
       "[5 rows x 21 columns]"
      ]
     },
     "execution_count": 54,
     "metadata": {},
     "output_type": "execute_result"
    }
   ],
   "source": [
    "df.head()"
   ]
  },
  {
   "cell_type": "code",
   "execution_count": 55,
   "id": "bace0938-20f7-4fe0-b742-9350870d50c0",
   "metadata": {},
   "outputs": [
    {
     "data": {
      "text/html": [
       "<div>\n",
       "<style scoped>\n",
       "    .dataframe tbody tr th:only-of-type {\n",
       "        vertical-align: middle;\n",
       "    }\n",
       "\n",
       "    .dataframe tbody tr th {\n",
       "        vertical-align: top;\n",
       "    }\n",
       "\n",
       "    .dataframe thead th {\n",
       "        text-align: right;\n",
       "    }\n",
       "</style>\n",
       "<table border=\"1\" class=\"dataframe\">\n",
       "  <thead>\n",
       "    <tr style=\"text-align: right;\">\n",
       "      <th></th>\n",
       "      <th>Delivery_Time</th>\n",
       "    </tr>\n",
       "    <tr>\n",
       "      <th>Vehicle</th>\n",
       "      <th></th>\n",
       "    </tr>\n",
       "  </thead>\n",
       "  <tbody>\n",
       "    <tr>\n",
       "      <th>van</th>\n",
       "      <td>116.235731</td>\n",
       "    </tr>\n",
       "    <tr>\n",
       "      <th>scooter</th>\n",
       "      <td>116.362599</td>\n",
       "    </tr>\n",
       "    <tr>\n",
       "      <th>motorcycle</th>\n",
       "      <td>130.612364</td>\n",
       "    </tr>\n",
       "  </tbody>\n",
       "</table>\n",
       "</div>"
      ],
      "text/plain": [
       "             Delivery_Time\n",
       "Vehicle                   \n",
       "van             116.235731\n",
       "scooter         116.362599\n",
       "motorcycle      130.612364"
      ]
     },
     "execution_count": 55,
     "metadata": {},
     "output_type": "execute_result"
    }
   ],
   "source": [
    "df.groupby(\"Vehicle\")[\"Delivery_Time\"].mean().to_frame().sort_values(by = \"Delivery_Time\")"
   ]
  },
  {
   "cell_type": "code",
   "execution_count": 56,
   "id": "7d62c4ff-13ea-4374-b073-a924494c195e",
   "metadata": {},
   "outputs": [
    {
     "data": {
      "text/plain": [
       "['motorcycle', 'scooter', 'van']"
      ]
     },
     "execution_count": 56,
     "metadata": {},
     "output_type": "execute_result"
    }
   ],
   "source": [
    "df[\"Vehicle\"] = df[\"Vehicle\"].str.strip()\n",
    "df[\"Vehicle\"].unique().tolist()"
   ]
  },
  {
   "cell_type": "code",
   "execution_count": 57,
   "id": "536d58de-5506-4075-ac7f-ee091bf99f93",
   "metadata": {},
   "outputs": [
    {
     "name": "stderr",
     "output_type": "stream",
     "text": [
      "C:\\Users\\Rishwanth J V K\\AppData\\Local\\Temp\\ipykernel_18384\\3598443659.py:2: FutureWarning: Downcasting behavior in `replace` is deprecated and will be removed in a future version. To retain the old behavior, explicitly call `result.infer_objects(copy=False)`. To opt-in to the future behavior, set `pd.set_option('future.no_silent_downcasting', True)`\n",
      "  vehicle.replace({True: 1, False: 0},inplace = True)\n"
     ]
    },
    {
     "data": {
      "text/html": [
       "<div>\n",
       "<style scoped>\n",
       "    .dataframe tbody tr th:only-of-type {\n",
       "        vertical-align: middle;\n",
       "    }\n",
       "\n",
       "    .dataframe tbody tr th {\n",
       "        vertical-align: top;\n",
       "    }\n",
       "\n",
       "    .dataframe thead th {\n",
       "        text-align: right;\n",
       "    }\n",
       "</style>\n",
       "<table border=\"1\" class=\"dataframe\">\n",
       "  <thead>\n",
       "    <tr style=\"text-align: right;\">\n",
       "      <th></th>\n",
       "      <th>Agent_Age</th>\n",
       "      <th>Agent_Rating</th>\n",
       "      <th>Order_Time</th>\n",
       "      <th>Pickup_Time</th>\n",
       "      <th>Traffic</th>\n",
       "      <th>Delivery_Time</th>\n",
       "      <th>Category</th>\n",
       "      <th>Distance</th>\n",
       "      <th>Order_Day</th>\n",
       "      <th>Order_Month</th>\n",
       "      <th>...</th>\n",
       "      <th>Stormy</th>\n",
       "      <th>Sunny</th>\n",
       "      <th>Windy</th>\n",
       "      <th>Metropolitian</th>\n",
       "      <th>Other</th>\n",
       "      <th>Semi-Urban</th>\n",
       "      <th>Urban</th>\n",
       "      <th>motorcycle</th>\n",
       "      <th>scooter</th>\n",
       "      <th>van</th>\n",
       "    </tr>\n",
       "  </thead>\n",
       "  <tbody>\n",
       "    <tr>\n",
       "      <th>0</th>\n",
       "      <td>37</td>\n",
       "      <td>4.9</td>\n",
       "      <td>11:30:00</td>\n",
       "      <td>11:45:00</td>\n",
       "      <td>2.0</td>\n",
       "      <td>120</td>\n",
       "      <td>1</td>\n",
       "      <td>3.025149</td>\n",
       "      <td>5</td>\n",
       "      <td>March</td>\n",
       "      <td>...</td>\n",
       "      <td>0</td>\n",
       "      <td>1</td>\n",
       "      <td>0</td>\n",
       "      <td>0</td>\n",
       "      <td>0</td>\n",
       "      <td>0</td>\n",
       "      <td>1</td>\n",
       "      <td>1</td>\n",
       "      <td>0</td>\n",
       "      <td>0</td>\n",
       "    </tr>\n",
       "    <tr>\n",
       "      <th>1</th>\n",
       "      <td>34</td>\n",
       "      <td>4.5</td>\n",
       "      <td>19:45:00</td>\n",
       "      <td>19:50:00</td>\n",
       "      <td>3.0</td>\n",
       "      <td>165</td>\n",
       "      <td>1</td>\n",
       "      <td>20.183530</td>\n",
       "      <td>4</td>\n",
       "      <td>March</td>\n",
       "      <td>...</td>\n",
       "      <td>1</td>\n",
       "      <td>0</td>\n",
       "      <td>0</td>\n",
       "      <td>1</td>\n",
       "      <td>0</td>\n",
       "      <td>0</td>\n",
       "      <td>0</td>\n",
       "      <td>0</td>\n",
       "      <td>1</td>\n",
       "      <td>0</td>\n",
       "    </tr>\n",
       "    <tr>\n",
       "      <th>2</th>\n",
       "      <td>23</td>\n",
       "      <td>4.4</td>\n",
       "      <td>08:30:00</td>\n",
       "      <td>08:45:00</td>\n",
       "      <td>0.0</td>\n",
       "      <td>130</td>\n",
       "      <td>1</td>\n",
       "      <td>1.552758</td>\n",
       "      <td>5</td>\n",
       "      <td>March</td>\n",
       "      <td>...</td>\n",
       "      <td>0</td>\n",
       "      <td>0</td>\n",
       "      <td>0</td>\n",
       "      <td>0</td>\n",
       "      <td>0</td>\n",
       "      <td>0</td>\n",
       "      <td>1</td>\n",
       "      <td>1</td>\n",
       "      <td>0</td>\n",
       "      <td>0</td>\n",
       "    </tr>\n",
       "    <tr>\n",
       "      <th>3</th>\n",
       "      <td>38</td>\n",
       "      <td>4.7</td>\n",
       "      <td>18:00:00</td>\n",
       "      <td>18:10:00</td>\n",
       "      <td>1.0</td>\n",
       "      <td>105</td>\n",
       "      <td>1</td>\n",
       "      <td>7.790401</td>\n",
       "      <td>1</td>\n",
       "      <td>April</td>\n",
       "      <td>...</td>\n",
       "      <td>0</td>\n",
       "      <td>1</td>\n",
       "      <td>0</td>\n",
       "      <td>1</td>\n",
       "      <td>0</td>\n",
       "      <td>0</td>\n",
       "      <td>0</td>\n",
       "      <td>1</td>\n",
       "      <td>0</td>\n",
       "      <td>0</td>\n",
       "    </tr>\n",
       "    <tr>\n",
       "      <th>4</th>\n",
       "      <td>32</td>\n",
       "      <td>4.6</td>\n",
       "      <td>13:30:00</td>\n",
       "      <td>13:45:00</td>\n",
       "      <td>2.0</td>\n",
       "      <td>150</td>\n",
       "      <td>1</td>\n",
       "      <td>6.210138</td>\n",
       "      <td>5</td>\n",
       "      <td>March</td>\n",
       "      <td>...</td>\n",
       "      <td>0</td>\n",
       "      <td>0</td>\n",
       "      <td>0</td>\n",
       "      <td>1</td>\n",
       "      <td>0</td>\n",
       "      <td>0</td>\n",
       "      <td>0</td>\n",
       "      <td>0</td>\n",
       "      <td>1</td>\n",
       "      <td>0</td>\n",
       "    </tr>\n",
       "  </tbody>\n",
       "</table>\n",
       "<p>5 rows × 23 columns</p>\n",
       "</div>"
      ],
      "text/plain": [
       "   Agent_Age  Agent_Rating Order_Time Pickup_Time  Traffic  Delivery_Time  \\\n",
       "0         37           4.9   11:30:00    11:45:00      2.0            120   \n",
       "1         34           4.5   19:45:00    19:50:00      3.0            165   \n",
       "2         23           4.4   08:30:00    08:45:00      0.0            130   \n",
       "3         38           4.7   18:00:00    18:10:00      1.0            105   \n",
       "4         32           4.6   13:30:00    13:45:00      2.0            150   \n",
       "\n",
       "   Category   Distance  Order_Day Order_Month  ...  Stormy  Sunny  Windy  \\\n",
       "0         1   3.025149          5       March  ...       0      1      0   \n",
       "1         1  20.183530          4       March  ...       1      0      0   \n",
       "2         1   1.552758          5       March  ...       0      0      0   \n",
       "3         1   7.790401          1       April  ...       0      1      0   \n",
       "4         1   6.210138          5       March  ...       0      0      0   \n",
       "\n",
       "   Metropolitian  Other  Semi-Urban  Urban  motorcycle  scooter  van  \n",
       "0              0      0           0      1           1        0    0  \n",
       "1              1      0           0      0           0        1    0  \n",
       "2              0      0           0      1           1        0    0  \n",
       "3              1      0           0      0           1        0    0  \n",
       "4              1      0           0      0           0        1    0  \n",
       "\n",
       "[5 rows x 23 columns]"
      ]
     },
     "execution_count": 57,
     "metadata": {},
     "output_type": "execute_result"
    }
   ],
   "source": [
    "vehicle = pd.get_dummies(df[\"Vehicle\"])\n",
    "vehicle.replace({True: 1, False: 0},inplace = True)\n",
    "df = pd.concat([df,vehicle], axis = 1)\n",
    "df.drop(columns = [\"Vehicle\"], inplace = True)\n",
    "df.head()"
   ]
  },
  {
   "cell_type": "code",
   "execution_count": 58,
   "id": "75a794bf-c249-4130-9767-6376d0dba9c5",
   "metadata": {},
   "outputs": [],
   "source": [
    "df.drop(columns = [\"Order_Time\",\"Pickup_Time\"],inplace = True)"
   ]
  },
  {
   "cell_type": "code",
   "execution_count": 59,
   "id": "2dc7989a-f587-4294-8353-88f90dbe0314",
   "metadata": {},
   "outputs": [
    {
     "data": {
      "text/html": [
       "<div>\n",
       "<style scoped>\n",
       "    .dataframe tbody tr th:only-of-type {\n",
       "        vertical-align: middle;\n",
       "    }\n",
       "\n",
       "    .dataframe tbody tr th {\n",
       "        vertical-align: top;\n",
       "    }\n",
       "\n",
       "    .dataframe thead th {\n",
       "        text-align: right;\n",
       "    }\n",
       "</style>\n",
       "<table border=\"1\" class=\"dataframe\">\n",
       "  <thead>\n",
       "    <tr style=\"text-align: right;\">\n",
       "      <th></th>\n",
       "      <th>Agent_Age</th>\n",
       "      <th>Agent_Rating</th>\n",
       "      <th>Traffic</th>\n",
       "      <th>Delivery_Time</th>\n",
       "      <th>Category</th>\n",
       "      <th>Distance</th>\n",
       "      <th>Order_Day</th>\n",
       "      <th>Order_Month</th>\n",
       "      <th>Cloudy</th>\n",
       "      <th>Fog</th>\n",
       "      <th>...</th>\n",
       "      <th>Stormy</th>\n",
       "      <th>Sunny</th>\n",
       "      <th>Windy</th>\n",
       "      <th>Metropolitian</th>\n",
       "      <th>Other</th>\n",
       "      <th>Semi-Urban</th>\n",
       "      <th>Urban</th>\n",
       "      <th>motorcycle</th>\n",
       "      <th>scooter</th>\n",
       "      <th>van</th>\n",
       "    </tr>\n",
       "  </thead>\n",
       "  <tbody>\n",
       "    <tr>\n",
       "      <th>0</th>\n",
       "      <td>37</td>\n",
       "      <td>4.9</td>\n",
       "      <td>2.0</td>\n",
       "      <td>120</td>\n",
       "      <td>1</td>\n",
       "      <td>3.025149</td>\n",
       "      <td>5</td>\n",
       "      <td>March</td>\n",
       "      <td>0</td>\n",
       "      <td>0</td>\n",
       "      <td>...</td>\n",
       "      <td>0</td>\n",
       "      <td>1</td>\n",
       "      <td>0</td>\n",
       "      <td>0</td>\n",
       "      <td>0</td>\n",
       "      <td>0</td>\n",
       "      <td>1</td>\n",
       "      <td>1</td>\n",
       "      <td>0</td>\n",
       "      <td>0</td>\n",
       "    </tr>\n",
       "    <tr>\n",
       "      <th>1</th>\n",
       "      <td>34</td>\n",
       "      <td>4.5</td>\n",
       "      <td>3.0</td>\n",
       "      <td>165</td>\n",
       "      <td>1</td>\n",
       "      <td>20.183530</td>\n",
       "      <td>4</td>\n",
       "      <td>March</td>\n",
       "      <td>0</td>\n",
       "      <td>0</td>\n",
       "      <td>...</td>\n",
       "      <td>1</td>\n",
       "      <td>0</td>\n",
       "      <td>0</td>\n",
       "      <td>1</td>\n",
       "      <td>0</td>\n",
       "      <td>0</td>\n",
       "      <td>0</td>\n",
       "      <td>0</td>\n",
       "      <td>1</td>\n",
       "      <td>0</td>\n",
       "    </tr>\n",
       "    <tr>\n",
       "      <th>2</th>\n",
       "      <td>23</td>\n",
       "      <td>4.4</td>\n",
       "      <td>0.0</td>\n",
       "      <td>130</td>\n",
       "      <td>1</td>\n",
       "      <td>1.552758</td>\n",
       "      <td>5</td>\n",
       "      <td>March</td>\n",
       "      <td>0</td>\n",
       "      <td>0</td>\n",
       "      <td>...</td>\n",
       "      <td>0</td>\n",
       "      <td>0</td>\n",
       "      <td>0</td>\n",
       "      <td>0</td>\n",
       "      <td>0</td>\n",
       "      <td>0</td>\n",
       "      <td>1</td>\n",
       "      <td>1</td>\n",
       "      <td>0</td>\n",
       "      <td>0</td>\n",
       "    </tr>\n",
       "    <tr>\n",
       "      <th>3</th>\n",
       "      <td>38</td>\n",
       "      <td>4.7</td>\n",
       "      <td>1.0</td>\n",
       "      <td>105</td>\n",
       "      <td>1</td>\n",
       "      <td>7.790401</td>\n",
       "      <td>1</td>\n",
       "      <td>April</td>\n",
       "      <td>0</td>\n",
       "      <td>0</td>\n",
       "      <td>...</td>\n",
       "      <td>0</td>\n",
       "      <td>1</td>\n",
       "      <td>0</td>\n",
       "      <td>1</td>\n",
       "      <td>0</td>\n",
       "      <td>0</td>\n",
       "      <td>0</td>\n",
       "      <td>1</td>\n",
       "      <td>0</td>\n",
       "      <td>0</td>\n",
       "    </tr>\n",
       "    <tr>\n",
       "      <th>4</th>\n",
       "      <td>32</td>\n",
       "      <td>4.6</td>\n",
       "      <td>2.0</td>\n",
       "      <td>150</td>\n",
       "      <td>1</td>\n",
       "      <td>6.210138</td>\n",
       "      <td>5</td>\n",
       "      <td>March</td>\n",
       "      <td>1</td>\n",
       "      <td>0</td>\n",
       "      <td>...</td>\n",
       "      <td>0</td>\n",
       "      <td>0</td>\n",
       "      <td>0</td>\n",
       "      <td>1</td>\n",
       "      <td>0</td>\n",
       "      <td>0</td>\n",
       "      <td>0</td>\n",
       "      <td>0</td>\n",
       "      <td>1</td>\n",
       "      <td>0</td>\n",
       "    </tr>\n",
       "  </tbody>\n",
       "</table>\n",
       "<p>5 rows × 21 columns</p>\n",
       "</div>"
      ],
      "text/plain": [
       "   Agent_Age  Agent_Rating  Traffic  Delivery_Time  Category   Distance  \\\n",
       "0         37           4.9      2.0            120         1   3.025149   \n",
       "1         34           4.5      3.0            165         1  20.183530   \n",
       "2         23           4.4      0.0            130         1   1.552758   \n",
       "3         38           4.7      1.0            105         1   7.790401   \n",
       "4         32           4.6      2.0            150         1   6.210138   \n",
       "\n",
       "   Order_Day Order_Month  Cloudy  Fog  ...  Stormy  Sunny  Windy  \\\n",
       "0          5       March       0    0  ...       0      1      0   \n",
       "1          4       March       0    0  ...       1      0      0   \n",
       "2          5       March       0    0  ...       0      0      0   \n",
       "3          1       April       0    0  ...       0      1      0   \n",
       "4          5       March       1    0  ...       0      0      0   \n",
       "\n",
       "   Metropolitian  Other  Semi-Urban  Urban  motorcycle  scooter  van  \n",
       "0              0      0           0      1           1        0    0  \n",
       "1              1      0           0      0           0        1    0  \n",
       "2              0      0           0      1           1        0    0  \n",
       "3              1      0           0      0           1        0    0  \n",
       "4              1      0           0      0           0        1    0  \n",
       "\n",
       "[5 rows x 21 columns]"
      ]
     },
     "execution_count": 59,
     "metadata": {},
     "output_type": "execute_result"
    }
   ],
   "source": [
    "df.head()"
   ]
  },
  {
   "cell_type": "code",
   "execution_count": 60,
   "id": "5e558abe-d726-44a6-9d1c-03c9f821b838",
   "metadata": {},
   "outputs": [
    {
     "data": {
      "image/png": "[encoded data removed]",
      "text/plain": [
       "<Figure size 640x480 with 1 Axes>"
      ]
     },
     "metadata": {},
     "output_type": "display_data"
    }
   ],
   "source": [
    "df.groupby(\"Order_Day\")[\"Delivery_Time\"].mean().plot(kind = \"bar\")\n",
    "plt.show()"
   ]
  },
  {
   "cell_type": "code",
   "execution_count": 61,
   "id": "ed42a6ff-e186-4a69-9635-221ef90ab4c5",
   "metadata": {},
   "outputs": [
    {
     "data": {
      "text/html": [
       "<div>\n",
       "<style scoped>\n",
       "    .dataframe tbody tr th:only-of-type {\n",
       "        vertical-align: middle;\n",
       "    }\n",
       "\n",
       "    .dataframe tbody tr th {\n",
       "        vertical-align: top;\n",
       "    }\n",
       "\n",
       "    .dataframe thead th {\n",
       "        text-align: right;\n",
       "    }\n",
       "</style>\n",
       "<table border=\"1\" class=\"dataframe\">\n",
       "  <thead>\n",
       "    <tr style=\"text-align: right;\">\n",
       "      <th></th>\n",
       "      <th>Order_Day</th>\n",
       "      <th>Delivery_Time</th>\n",
       "    </tr>\n",
       "  </thead>\n",
       "  <tbody>\n",
       "    <tr>\n",
       "      <th>Order_Day</th>\n",
       "      <td>1.000000</td>\n",
       "      <td>0.006314</td>\n",
       "    </tr>\n",
       "    <tr>\n",
       "      <th>Delivery_Time</th>\n",
       "      <td>0.006314</td>\n",
       "      <td>1.000000</td>\n",
       "    </tr>\n",
       "  </tbody>\n",
       "</table>\n",
       "</div>"
      ],
      "text/plain": [
       "               Order_Day  Delivery_Time\n",
       "Order_Day       1.000000       0.006314\n",
       "Delivery_Time   0.006314       1.000000"
      ]
     },
     "execution_count": 61,
     "metadata": {},
     "output_type": "execute_result"
    }
   ],
   "source": [
    "df[[\"Order_Day\",\"Delivery_Time\"]].corr()"
   ]
  },
  {
   "cell_type": "markdown",
   "id": "1a9ee09e-09bd-4941-86f8-7831c12a855e",
   "metadata": {},
   "source": [
    "not much correlation between order_day and delivery_time, so we can remove the feature"
   ]
  },
  {
   "cell_type": "code",
   "execution_count": 62,
   "id": "de16b0c9-8390-4dc1-90ee-91ace0279b87",
   "metadata": {},
   "outputs": [
    {
     "data": {
      "text/html": [
       "<div>\n",
       "<style scoped>\n",
       "    .dataframe tbody tr th:only-of-type {\n",
       "        vertical-align: middle;\n",
       "    }\n",
       "\n",
       "    .dataframe tbody tr th {\n",
       "        vertical-align: top;\n",
       "    }\n",
       "\n",
       "    .dataframe thead th {\n",
       "        text-align: right;\n",
       "    }\n",
       "</style>\n",
       "<table border=\"1\" class=\"dataframe\">\n",
       "  <thead>\n",
       "    <tr style=\"text-align: right;\">\n",
       "      <th></th>\n",
       "      <th>Agent_Age</th>\n",
       "      <th>Agent_Rating</th>\n",
       "      <th>Traffic</th>\n",
       "      <th>Delivery_Time</th>\n",
       "      <th>Category</th>\n",
       "      <th>Distance</th>\n",
       "      <th>Order_Month</th>\n",
       "      <th>Cloudy</th>\n",
       "      <th>Fog</th>\n",
       "      <th>Sandstorms</th>\n",
       "      <th>Stormy</th>\n",
       "      <th>Sunny</th>\n",
       "      <th>Windy</th>\n",
       "      <th>Metropolitian</th>\n",
       "      <th>Other</th>\n",
       "      <th>Semi-Urban</th>\n",
       "      <th>Urban</th>\n",
       "      <th>motorcycle</th>\n",
       "      <th>scooter</th>\n",
       "      <th>van</th>\n",
       "    </tr>\n",
       "  </thead>\n",
       "  <tbody>\n",
       "    <tr>\n",
       "      <th>0</th>\n",
       "      <td>37</td>\n",
       "      <td>4.9</td>\n",
       "      <td>2.0</td>\n",
       "      <td>120</td>\n",
       "      <td>1</td>\n",
       "      <td>3.025149</td>\n",
       "      <td>March</td>\n",
       "      <td>0</td>\n",
       "      <td>0</td>\n",
       "      <td>0</td>\n",
       "      <td>0</td>\n",
       "      <td>1</td>\n",
       "      <td>0</td>\n",
       "      <td>0</td>\n",
       "      <td>0</td>\n",
       "      <td>0</td>\n",
       "      <td>1</td>\n",
       "      <td>1</td>\n",
       "      <td>0</td>\n",
       "      <td>0</td>\n",
       "    </tr>\n",
       "    <tr>\n",
       "      <th>1</th>\n",
       "      <td>34</td>\n",
       "      <td>4.5</td>\n",
       "      <td>3.0</td>\n",
       "      <td>165</td>\n",
       "      <td>1</td>\n",
       "      <td>20.183530</td>\n",
       "      <td>March</td>\n",
       "      <td>0</td>\n",
       "      <td>0</td>\n",
       "      <td>0</td>\n",
       "      <td>1</td>\n",
       "      <td>0</td>\n",
       "      <td>0</td>\n",
       "      <td>1</td>\n",
       "      <td>0</td>\n",
       "      <td>0</td>\n",
       "      <td>0</td>\n",
       "      <td>0</td>\n",
       "      <td>1</td>\n",
       "      <td>0</td>\n",
       "    </tr>\n",
       "    <tr>\n",
       "      <th>2</th>\n",
       "      <td>23</td>\n",
       "      <td>4.4</td>\n",
       "      <td>0.0</td>\n",
       "      <td>130</td>\n",
       "      <td>1</td>\n",
       "      <td>1.552758</td>\n",
       "      <td>March</td>\n",
       "      <td>0</td>\n",
       "      <td>0</td>\n",
       "      <td>1</td>\n",
       "      <td>0</td>\n",
       "      <td>0</td>\n",
       "      <td>0</td>\n",
       "      <td>0</td>\n",
       "      <td>0</td>\n",
       "      <td>0</td>\n",
       "      <td>1</td>\n",
       "      <td>1</td>\n",
       "      <td>0</td>\n",
       "      <td>0</td>\n",
       "    </tr>\n",
       "    <tr>\n",
       "      <th>3</th>\n",
       "      <td>38</td>\n",
       "      <td>4.7</td>\n",
       "      <td>1.0</td>\n",
       "      <td>105</td>\n",
       "      <td>1</td>\n",
       "      <td>7.790401</td>\n",
       "      <td>April</td>\n",
       "      <td>0</td>\n",
       "      <td>0</td>\n",
       "      <td>0</td>\n",
       "      <td>0</td>\n",
       "      <td>1</td>\n",
       "      <td>0</td>\n",
       "      <td>1</td>\n",
       "      <td>0</td>\n",
       "      <td>0</td>\n",
       "      <td>0</td>\n",
       "      <td>1</td>\n",
       "      <td>0</td>\n",
       "      <td>0</td>\n",
       "    </tr>\n",
       "    <tr>\n",
       "      <th>4</th>\n",
       "      <td>32</td>\n",
       "      <td>4.6</td>\n",
       "      <td>2.0</td>\n",
       "      <td>150</td>\n",
       "      <td>1</td>\n",
       "      <td>6.210138</td>\n",
       "      <td>March</td>\n",
       "      <td>1</td>\n",
       "      <td>0</td>\n",
       "      <td>0</td>\n",
       "      <td>0</td>\n",
       "      <td>0</td>\n",
       "      <td>0</td>\n",
       "      <td>1</td>\n",
       "      <td>0</td>\n",
       "      <td>0</td>\n",
       "      <td>0</td>\n",
       "      <td>0</td>\n",
       "      <td>1</td>\n",
       "      <td>0</td>\n",
       "    </tr>\n",
       "  </tbody>\n",
       "</table>\n",
       "</div>"
      ],
      "text/plain": [
       "   Agent_Age  Agent_Rating  Traffic  Delivery_Time  Category   Distance  \\\n",
       "0         37           4.9      2.0            120         1   3.025149   \n",
       "1         34           4.5      3.0            165         1  20.183530   \n",
       "2         23           4.4      0.0            130         1   1.552758   \n",
       "3         38           4.7      1.0            105         1   7.790401   \n",
       "4         32           4.6      2.0            150         1   6.210138   \n",
       "\n",
       "  Order_Month  Cloudy  Fog  Sandstorms  Stormy  Sunny  Windy  Metropolitian  \\\n",
       "0       March       0    0           0       0      1      0              0   \n",
       "1       March       0    0           0       1      0      0              1   \n",
       "2       March       0    0           1       0      0      0              0   \n",
       "3       April       0    0           0       0      1      0              1   \n",
       "4       March       1    0           0       0      0      0              1   \n",
       "\n",
       "   Other  Semi-Urban  Urban  motorcycle  scooter  van  \n",
       "0      0           0      1           1        0    0  \n",
       "1      0           0      0           0        1    0  \n",
       "2      0           0      1           1        0    0  \n",
       "3      0           0      0           1        0    0  \n",
       "4      0           0      0           0        1    0  "
      ]
     },
     "execution_count": 62,
     "metadata": {},
     "output_type": "execute_result"
    }
   ],
   "source": [
    "df.drop(columns = {\"Order_Day\"},inplace=True)\n",
    "df.head()"
   ]
  },
  {
   "cell_type": "code",
   "execution_count": 63,
   "id": "2912019a-7c51-4c84-9da5-a74e6def8d43",
   "metadata": {},
   "outputs": [
    {
     "data": {
      "text/plain": [
       "Order_Month\n",
       "April        6078\n",
       "February     6753\n",
       "March       30533\n",
       "Name: Delivery_Time, dtype: int64"
      ]
     },
     "execution_count": 63,
     "metadata": {},
     "output_type": "execute_result"
    }
   ],
   "source": [
    "df.groupby(\"Order_Month\")[\"Delivery_Time\"].count()"
   ]
  },
  {
   "cell_type": "code",
   "execution_count": 64,
   "id": "9c4f2b41-6895-4ddc-83dc-cf1b87961e8c",
   "metadata": {},
   "outputs": [
    {
     "data": {
      "text/html": [
       "<div>\n",
       "<style scoped>\n",
       "    .dataframe tbody tr th:only-of-type {\n",
       "        vertical-align: middle;\n",
       "    }\n",
       "\n",
       "    .dataframe tbody tr th {\n",
       "        vertical-align: top;\n",
       "    }\n",
       "\n",
       "    .dataframe thead th {\n",
       "        text-align: right;\n",
       "    }\n",
       "</style>\n",
       "<table border=\"1\" class=\"dataframe\">\n",
       "  <thead>\n",
       "    <tr style=\"text-align: right;\">\n",
       "      <th></th>\n",
       "      <th>Agent_Age</th>\n",
       "      <th>Agent_Rating</th>\n",
       "      <th>Traffic</th>\n",
       "      <th>Delivery_Time</th>\n",
       "      <th>Category</th>\n",
       "      <th>Distance</th>\n",
       "      <th>Cloudy</th>\n",
       "      <th>Fog</th>\n",
       "      <th>Sandstorms</th>\n",
       "      <th>Stormy</th>\n",
       "      <th>Sunny</th>\n",
       "      <th>Windy</th>\n",
       "      <th>Metropolitian</th>\n",
       "      <th>Other</th>\n",
       "      <th>Semi-Urban</th>\n",
       "      <th>Urban</th>\n",
       "      <th>motorcycle</th>\n",
       "      <th>scooter</th>\n",
       "      <th>van</th>\n",
       "    </tr>\n",
       "  </thead>\n",
       "  <tbody>\n",
       "    <tr>\n",
       "      <th>0</th>\n",
       "      <td>37</td>\n",
       "      <td>4.9</td>\n",
       "      <td>2.0</td>\n",
       "      <td>120</td>\n",
       "      <td>1</td>\n",
       "      <td>3.025149</td>\n",
       "      <td>0</td>\n",
       "      <td>0</td>\n",
       "      <td>0</td>\n",
       "      <td>0</td>\n",
       "      <td>1</td>\n",
       "      <td>0</td>\n",
       "      <td>0</td>\n",
       "      <td>0</td>\n",
       "      <td>0</td>\n",
       "      <td>1</td>\n",
       "      <td>1</td>\n",
       "      <td>0</td>\n",
       "      <td>0</td>\n",
       "    </tr>\n",
       "    <tr>\n",
       "      <th>1</th>\n",
       "      <td>34</td>\n",
       "      <td>4.5</td>\n",
       "      <td>3.0</td>\n",
       "      <td>165</td>\n",
       "      <td>1</td>\n",
       "      <td>20.183530</td>\n",
       "      <td>0</td>\n",
       "      <td>0</td>\n",
       "      <td>0</td>\n",
       "      <td>1</td>\n",
       "      <td>0</td>\n",
       "      <td>0</td>\n",
       "      <td>1</td>\n",
       "      <td>0</td>\n",
       "      <td>0</td>\n",
       "      <td>0</td>\n",
       "      <td>0</td>\n",
       "      <td>1</td>\n",
       "      <td>0</td>\n",
       "    </tr>\n",
       "    <tr>\n",
       "      <th>2</th>\n",
       "      <td>23</td>\n",
       "      <td>4.4</td>\n",
       "      <td>0.0</td>\n",
       "      <td>130</td>\n",
       "      <td>1</td>\n",
       "      <td>1.552758</td>\n",
       "      <td>0</td>\n",
       "      <td>0</td>\n",
       "      <td>1</td>\n",
       "      <td>0</td>\n",
       "      <td>0</td>\n",
       "      <td>0</td>\n",
       "      <td>0</td>\n",
       "      <td>0</td>\n",
       "      <td>0</td>\n",
       "      <td>1</td>\n",
       "      <td>1</td>\n",
       "      <td>0</td>\n",
       "      <td>0</td>\n",
       "    </tr>\n",
       "    <tr>\n",
       "      <th>3</th>\n",
       "      <td>38</td>\n",
       "      <td>4.7</td>\n",
       "      <td>1.0</td>\n",
       "      <td>105</td>\n",
       "      <td>1</td>\n",
       "      <td>7.790401</td>\n",
       "      <td>0</td>\n",
       "      <td>0</td>\n",
       "      <td>0</td>\n",
       "      <td>0</td>\n",
       "      <td>1</td>\n",
       "      <td>0</td>\n",
       "      <td>1</td>\n",
       "      <td>0</td>\n",
       "      <td>0</td>\n",
       "      <td>0</td>\n",
       "      <td>1</td>\n",
       "      <td>0</td>\n",
       "      <td>0</td>\n",
       "    </tr>\n",
       "    <tr>\n",
       "      <th>4</th>\n",
       "      <td>32</td>\n",
       "      <td>4.6</td>\n",
       "      <td>2.0</td>\n",
       "      <td>150</td>\n",
       "      <td>1</td>\n",
       "      <td>6.210138</td>\n",
       "      <td>1</td>\n",
       "      <td>0</td>\n",
       "      <td>0</td>\n",
       "      <td>0</td>\n",
       "      <td>0</td>\n",
       "      <td>0</td>\n",
       "      <td>1</td>\n",
       "      <td>0</td>\n",
       "      <td>0</td>\n",
       "      <td>0</td>\n",
       "      <td>0</td>\n",
       "      <td>1</td>\n",
       "      <td>0</td>\n",
       "    </tr>\n",
       "  </tbody>\n",
       "</table>\n",
       "</div>"
      ],
      "text/plain": [
       "   Agent_Age  Agent_Rating  Traffic  Delivery_Time  Category   Distance  \\\n",
       "0         37           4.9      2.0            120         1   3.025149   \n",
       "1         34           4.5      3.0            165         1  20.183530   \n",
       "2         23           4.4      0.0            130         1   1.552758   \n",
       "3         38           4.7      1.0            105         1   7.790401   \n",
       "4         32           4.6      2.0            150         1   6.210138   \n",
       "\n",
       "   Cloudy  Fog  Sandstorms  Stormy  Sunny  Windy  Metropolitian  Other  \\\n",
       "0       0    0           0       0      1      0              0      0   \n",
       "1       0    0           0       1      0      0              1      0   \n",
       "2       0    0           1       0      0      0              0      0   \n",
       "3       0    0           0       0      1      0              1      0   \n",
       "4       1    0           0       0      0      0              1      0   \n",
       "\n",
       "   Semi-Urban  Urban  motorcycle  scooter  van  \n",
       "0           0      1           1        0    0  \n",
       "1           0      0           0        1    0  \n",
       "2           0      1           1        0    0  \n",
       "3           0      0           1        0    0  \n",
       "4           0      0           0        1    0  "
      ]
     },
     "execution_count": 64,
     "metadata": {},
     "output_type": "execute_result"
    }
   ],
   "source": [
    "df.drop(columns = {\"Order_Month\"},inplace=True)\n",
    "df.head()"
   ]
  },
  {
   "cell_type": "markdown",
   "id": "c1f5b85a-0288-4070-8761-960f3a41545c",
   "metadata": {},
   "source": [
    "## Model Comparisons"
   ]
  },
  {
   "cell_type": "markdown",
   "id": "1d01b47a-2c57-443f-a79f-925490f269f0",
   "metadata": {},
   "source": [
    "Linear Regression"
   ]
  },
  {
   "cell_type": "code",
   "execution_count": 66,
   "id": "acee988e-14b4-42fd-983f-e3e54f7ce989",
   "metadata": {},
   "outputs": [],
   "source": [
    "from sklearn.linear_model import LinearRegression,Lasso\n",
    "from sklearn.model_selection import train_test_split\n",
    "from sklearn.metrics import r2_score\n",
    "from sklearn.preprocessing import PolynomialFeatures, StandardScaler"
   ]
  },
  {
   "cell_type": "code",
   "execution_count": 67,
   "id": "e5233476-1103-4084-90f6-3bd7381666bf",
   "metadata": {},
   "outputs": [],
   "source": [
    "x = df.drop(\"Delivery_Time\",axis = 1)\n",
    "y = df.Delivery_Time\n",
    "ss = StandardScaler()\n",
    "x = pd.DataFrame(ss.fit_transform(x))"
   ]
  },
  {
   "cell_type": "code",
   "execution_count": 68,
   "id": "1b612968-b50c-4e8a-b79d-f6240097026a",
   "metadata": {},
   "outputs": [],
   "source": [
    "train_x,test_x,train_y,test_y = train_test_split(x,y,test_size = 0.3, random_state = 42)"
   ]
  },
  {
   "cell_type": "markdown",
   "id": "7dbd0f87-c1df-4e8d-8f0f-769deeb8e19a",
   "metadata": {},
   "source": [
    "Vanilla Linear Regression:"
   ]
  },
  {
   "cell_type": "code",
   "execution_count": 69,
   "id": "6cf0955f-8c50-41b9-bbdb-e2165193027b",
   "metadata": {},
   "outputs": [
    {
     "data": {
      "text/plain": [
       "0.3758362413299611"
      ]
     },
     "execution_count": 69,
     "metadata": {},
     "output_type": "execute_result"
    }
   ],
   "source": [
    "lr = LinearRegression()\n",
    "lr.fit(train_x,train_y)\n",
    "pred_y = lr.predict(test_x)\n",
    "r2_score(pred_y,test_y)"
   ]
  },
  {
   "cell_type": "markdown",
   "id": "e62980ff-c9fe-456a-a3c0-b81f09f2d67f",
   "metadata": {},
   "source": [
    "Regularization:"
   ]
  },
  {
   "cell_type": "code",
   "execution_count": 70,
   "id": "02de5793-5775-4e23-9337-5146f300edd0",
   "metadata": {},
   "outputs": [
    {
     "data": {
      "text/plain": [
       "0.36719785841673136"
      ]
     },
     "execution_count": 70,
     "metadata": {},
     "output_type": "execute_result"
    }
   ],
   "source": [
    "lasso = Lasso(alpha = 0.1, max_iter = 100000)\n",
    "lasso.fit(train_x,train_y)\n",
    "pred_y = lasso.predict(test_x)\n",
    "r2_score(pred_y,test_y)"
   ]
  },
  {
   "cell_type": "markdown",
   "id": "a98b7e58-5c32-45b0-931f-3024d77ad414",
   "metadata": {},
   "source": [
    "This means the model is too simple"
   ]
  },
  {
   "cell_type": "markdown",
   "id": "eaf8f9a0-b379-4737-8eb6-84ac3e7292f5",
   "metadata": {},
   "source": [
    "Polynomial Regression:"
   ]
  },
  {
   "cell_type": "code",
   "execution_count": 71,
   "id": "55875fd0-5d2f-439d-b9f0-4d9d3893890e",
   "metadata": {},
   "outputs": [],
   "source": [
    "poly = PolynomialFeatures(degree = 4)\n",
    "new_x = poly.fit_transform(x)\n",
    "train_x,test_x,train_y,test_y = train_test_split(new_x,y,test_size = 0.3, random_state = 42)"
   ]
  },
  {
   "cell_type": "code",
   "execution_count": 72,
   "id": "2a392d77-1930-4dcb-8553-b3c7ab5ae9d8",
   "metadata": {},
   "outputs": [
    {
     "data": {
      "text/plain": [
       "0.6896794525013199"
      ]
     },
     "execution_count": 72,
     "metadata": {},
     "output_type": "execute_result"
    }
   ],
   "source": [
    "lr = LinearRegression()\n",
    "lr.fit(train_x,train_y)\n",
    "pred_y = lr.predict(test_x)\n",
    "r2_score(pred_y,test_y)"
   ]
  },
  {
   "cell_type": "code",
   "execution_count": 73,
   "id": "dc65d0f8-a27b-4045-af96-85ee0c07142b",
   "metadata": {},
   "outputs": [
    {
     "data": {
      "text/plain": [
       "0.777253352616943"
      ]
     },
     "execution_count": 73,
     "metadata": {},
     "output_type": "execute_result"
    }
   ],
   "source": [
    "pred_y = lr.predict(train_x)\n",
    "r2_score(train_y,pred_y)"
   ]
  },
  {
   "cell_type": "markdown",
   "id": "162eaddd-f0ff-46f8-9b46-3151703f7d91",
   "metadata": {},
   "source": [
    "## Conclusion"
   ]
  },
  {
   "cell_type": "markdown",
   "id": "b6145419-8cdb-44a8-aa7b-7bffbab2174e",
   "metadata": {},
   "source": [
    "We are able to achieve a r2_score of 0.777 for the training data set and 0.6897 for the testing data set. The vanilla Linear Regression was underfitting, we came to know it was an underfit as when we regularized, r2_score further decreased. Hence we increased the complexity of the model using polynomial regression, which significantly increased the r2_score."
   ]
  },
  {
   "cell_type": "markdown",
   "id": "6d10895e-80a8-4f23-b058-f81868ff77d9",
   "metadata": {},
   "source": [
    "## Flaws and next step"
   ]
  },
  {
   "cell_type": "markdown",
   "id": "80323340-3c6a-4df9-b137-487c9f740938",
   "metadata": {},
   "source": [
    "The model is able to explain only 68.96% of the variation, higher r2_score can be achieved by making more complex feature combinations."
   ]
  },
  {
   "cell_type": "code",
   "execution_count": null,
   "id": "c2e858a5-9d88-414b-a676-13ae0559f475",
   "metadata": {},
   "outputs": [],
   "source": []
  }
 ],
 "metadata": {
  "kernelspec": {
   "display_name": "Python 3 (ipykernel)",
   "language": "python",
   "name": "python3"
  },
  "language_info": {
   "codemirror_mode": {
    "name": "ipython",
    "version": 3
   },
   "file_extension": ".py",
   "mimetype": "text/x-python",
   "name": "python",
   "nbconvert_exporter": "python",
   "pygments_lexer": "ipython3",
   "version": "3.12.7"
  }
 },
 "nbformat": 4,
 "nbformat_minor": 5
}
