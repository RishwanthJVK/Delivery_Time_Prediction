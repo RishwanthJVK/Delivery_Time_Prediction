{
 "cells": [
  {
   "cell_type": "code",
   "execution_count": 1,
   "id": "a73ee30d-b33d-4095-b70a-666c5443f93f",
   "metadata": {},
   "outputs": [],
   "source": [
    "import pandas as pd\n",
    "import numpy as np\n",
    "import matplotlib.pyplot as plt\n",
    "import seaborn as sns\n",
    "import math\n",
    "from sklearn.compose import ColumnTransformer"
   ]
  },
  {
   "cell_type": "markdown",
   "id": "65f0ca57-501d-448b-9ca0-f6a4a2534cf1",
   "metadata": {},
   "source": [
    "## Data Summary"
   ]
  },
  {
   "cell_type": "code",
   "execution_count": 2,
   "id": "ca21b587-6602-401f-ac3f-e20c297c8deb",
   "metadata": {},
   "outputs": [],
   "source": [
    "df = pd.read_csv(\"amazon_delivery.csv\")"
   ]
  },
  {
   "cell_type": "code",
   "execution_count": 3,
   "id": "6cc24e1f-ada0-45ea-a8f1-f0d8d606e2e3",
   "metadata": {},
   "outputs": [
    {
     "data": {
      "text/html": [
       "<div>\n",
       "<style scoped>\n",
       "    .dataframe tbody tr th:only-of-type {\n",
       "        vertical-align: middle;\n",
       "    }\n",
       "\n",
       "    .dataframe tbody tr th {\n",
       "        vertical-align: top;\n",
       "    }\n",
       "\n",
       "    .dataframe thead th {\n",
       "        text-align: right;\n",
       "    }\n",
       "</style>\n",
       "<table border=\"1\" class=\"dataframe\">\n",
       "  <thead>\n",
       "    <tr style=\"text-align: right;\">\n",
       "      <th></th>\n",
       "      <th>Order_ID</th>\n",
       "      <th>Agent_Age</th>\n",
       "      <th>Agent_Rating</th>\n",
       "      <th>Store_Latitude</th>\n",
       "      <th>Store_Longitude</th>\n",
       "      <th>Drop_Latitude</th>\n",
       "      <th>Drop_Longitude</th>\n",
       "      <th>Order_Date</th>\n",
       "      <th>Order_Time</th>\n",
       "      <th>Pickup_Time</th>\n",
       "      <th>Weather</th>\n",
       "      <th>Traffic</th>\n",
       "      <th>Vehicle</th>\n",
       "      <th>Area</th>\n",
       "      <th>Delivery_Time</th>\n",
       "      <th>Category</th>\n",
       "    </tr>\n",
       "  </thead>\n",
       "  <tbody>\n",
       "    <tr>\n",
       "      <th>0</th>\n",
       "      <td>ialx566343618</td>\n",
       "      <td>37</td>\n",
       "      <td>4.9</td>\n",
       "      <td>22.745049</td>\n",
       "      <td>75.892471</td>\n",
       "      <td>22.765049</td>\n",
       "      <td>75.912471</td>\n",
       "      <td>2022-03-19</td>\n",
       "      <td>11:30:00</td>\n",
       "      <td>11:45:00</td>\n",
       "      <td>Sunny</td>\n",
       "      <td>High</td>\n",
       "      <td>motorcycle</td>\n",
       "      <td>Urban</td>\n",
       "      <td>120</td>\n",
       "      <td>Clothing</td>\n",
       "    </tr>\n",
       "    <tr>\n",
       "      <th>1</th>\n",
       "      <td>akqg208421122</td>\n",
       "      <td>34</td>\n",
       "      <td>4.5</td>\n",
       "      <td>12.913041</td>\n",
       "      <td>77.683237</td>\n",
       "      <td>13.043041</td>\n",
       "      <td>77.813237</td>\n",
       "      <td>2022-03-25</td>\n",
       "      <td>19:45:00</td>\n",
       "      <td>19:50:00</td>\n",
       "      <td>Stormy</td>\n",
       "      <td>Jam</td>\n",
       "      <td>scooter</td>\n",
       "      <td>Metropolitian</td>\n",
       "      <td>165</td>\n",
       "      <td>Electronics</td>\n",
       "    </tr>\n",
       "    <tr>\n",
       "      <th>2</th>\n",
       "      <td>njpu434582536</td>\n",
       "      <td>23</td>\n",
       "      <td>4.4</td>\n",
       "      <td>12.914264</td>\n",
       "      <td>77.678400</td>\n",
       "      <td>12.924264</td>\n",
       "      <td>77.688400</td>\n",
       "      <td>2022-03-19</td>\n",
       "      <td>08:30:00</td>\n",
       "      <td>08:45:00</td>\n",
       "      <td>Sandstorms</td>\n",
       "      <td>Low</td>\n",
       "      <td>motorcycle</td>\n",
       "      <td>Urban</td>\n",
       "      <td>130</td>\n",
       "      <td>Sports</td>\n",
       "    </tr>\n",
       "    <tr>\n",
       "      <th>3</th>\n",
       "      <td>rjto796129700</td>\n",
       "      <td>38</td>\n",
       "      <td>4.7</td>\n",
       "      <td>11.003669</td>\n",
       "      <td>76.976494</td>\n",
       "      <td>11.053669</td>\n",
       "      <td>77.026494</td>\n",
       "      <td>2022-04-05</td>\n",
       "      <td>18:00:00</td>\n",
       "      <td>18:10:00</td>\n",
       "      <td>Sunny</td>\n",
       "      <td>Medium</td>\n",
       "      <td>motorcycle</td>\n",
       "      <td>Metropolitian</td>\n",
       "      <td>105</td>\n",
       "      <td>Cosmetics</td>\n",
       "    </tr>\n",
       "    <tr>\n",
       "      <th>4</th>\n",
       "      <td>zguw716275638</td>\n",
       "      <td>32</td>\n",
       "      <td>4.6</td>\n",
       "      <td>12.972793</td>\n",
       "      <td>80.249982</td>\n",
       "      <td>13.012793</td>\n",
       "      <td>80.289982</td>\n",
       "      <td>2022-03-26</td>\n",
       "      <td>13:30:00</td>\n",
       "      <td>13:45:00</td>\n",
       "      <td>Cloudy</td>\n",
       "      <td>High</td>\n",
       "      <td>scooter</td>\n",
       "      <td>Metropolitian</td>\n",
       "      <td>150</td>\n",
       "      <td>Toys</td>\n",
       "    </tr>\n",
       "  </tbody>\n",
       "</table>\n",
       "</div>"
      ],
      "text/plain": [
       "        Order_ID  Agent_Age  Agent_Rating  Store_Latitude  Store_Longitude  \\\n",
       "0  ialx566343618         37           4.9       22.745049        75.892471   \n",
       "1  akqg208421122         34           4.5       12.913041        77.683237   \n",
       "2  njpu434582536         23           4.4       12.914264        77.678400   \n",
       "3  rjto796129700         38           4.7       11.003669        76.976494   \n",
       "4  zguw716275638         32           4.6       12.972793        80.249982   \n",
       "\n",
       "   Drop_Latitude  Drop_Longitude  Order_Date Order_Time Pickup_Time  \\\n",
       "0      22.765049       75.912471  2022-03-19   11:30:00    11:45:00   \n",
       "1      13.043041       77.813237  2022-03-25   19:45:00    19:50:00   \n",
       "2      12.924264       77.688400  2022-03-19   08:30:00    08:45:00   \n",
       "3      11.053669       77.026494  2022-04-05   18:00:00    18:10:00   \n",
       "4      13.012793       80.289982  2022-03-26   13:30:00    13:45:00   \n",
       "\n",
       "      Weather  Traffic      Vehicle            Area  Delivery_Time  \\\n",
       "0       Sunny    High   motorcycle           Urban             120   \n",
       "1      Stormy     Jam      scooter   Metropolitian             165   \n",
       "2  Sandstorms     Low   motorcycle           Urban             130   \n",
       "3       Sunny  Medium   motorcycle   Metropolitian             105   \n",
       "4      Cloudy    High      scooter   Metropolitian             150   \n",
       "\n",
       "      Category  \n",
       "0     Clothing  \n",
       "1  Electronics  \n",
       "2       Sports  \n",
       "3    Cosmetics  \n",
       "4         Toys  "
      ]
     },
     "execution_count": 3,
     "metadata": {},
     "output_type": "execute_result"
    }
   ],
   "source": [
    "df.head()"
   ]
  },
  {
   "cell_type": "code",
   "execution_count": 4,
   "id": "e17253db-c688-44ec-b7a4-bbace4a70475",
   "metadata": {},
   "outputs": [
    {
     "data": {
      "text/plain": [
       "(43739, 16)"
      ]
     },
     "execution_count": 4,
     "metadata": {},
     "output_type": "execute_result"
    }
   ],
   "source": [
    "df.shape"
   ]
  },
  {
   "cell_type": "markdown",
   "id": "4a26481e-2a20-45ea-883e-224bc0cef346",
   "metadata": {},
   "source": [
    "This has 43739 observations and 16 columns. <br>\n",
    "The delivery time is a potential target variable"
   ]
  },
  {
   "cell_type": "code",
   "execution_count": 5,
   "id": "43741c59-ac6f-4982-8b2b-ca62b0f971dc",
   "metadata": {},
   "outputs": [
    {
     "name": "stdout",
     "output_type": "stream",
     "text": [
      "<class 'pandas.core.frame.DataFrame'>\n",
      "RangeIndex: 43739 entries, 0 to 43738\n",
      "Data columns (total 16 columns):\n",
      " #   Column           Non-Null Count  Dtype  \n",
      "---  ------           --------------  -----  \n",
      " 0   Order_ID         43739 non-null  object \n",
      " 1   Agent_Age        43739 non-null  int64  \n",
      " 2   Agent_Rating     43685 non-null  float64\n",
      " 3   Store_Latitude   43739 non-null  float64\n",
      " 4   Store_Longitude  43739 non-null  float64\n",
      " 5   Drop_Latitude    43739 non-null  float64\n",
      " 6   Drop_Longitude   43739 non-null  float64\n",
      " 7   Order_Date       43739 non-null  object \n",
      " 8   Order_Time       43739 non-null  object \n",
      " 9   Pickup_Time      43739 non-null  object \n",
      " 10  Weather          43648 non-null  object \n",
      " 11  Traffic          43739 non-null  object \n",
      " 12  Vehicle          43739 non-null  object \n",
      " 13  Area             43739 non-null  object \n",
      " 14  Delivery_Time    43739 non-null  int64  \n",
      " 15  Category         43739 non-null  object \n",
      "dtypes: float64(5), int64(2), object(9)\n",
      "memory usage: 5.3+ MB\n"
     ]
    }
   ],
   "source": [
    "df.info()"
   ]
  },
  {
   "cell_type": "markdown",
   "id": "cc42956f-9392-49b4-8bbc-c1fc601057bc",
   "metadata": {},
   "source": [
    "There are 9 categorical variables and 7 numerical variables"
   ]
  },
  {
   "cell_type": "markdown",
   "id": "ab457eb0-aba6-4b9b-829e-e234089d9b1c",
   "metadata": {},
   "source": [
    "## Objective Of The Analysis"
   ]
  },
  {
   "cell_type": "markdown",
   "id": "bf69e31c-c9ce-4f00-b80c-1d080660e2c7",
   "metadata": {},
   "source": [
    "In this Analysis, we are keeping delivery time as the target variable, and using other features like agent age, mode of delivery, delivery time, we are aiming to predict the delivery time"
   ]
  },
  {
   "cell_type": "markdown",
   "id": "c944c382-02e2-48e3-920b-582bbaa4a6fb",
   "metadata": {},
   "source": [
    "For this analysis Order Id is irrelevant, so we will be removing it, we are also combining the four features: store latitude, store longitude, drop latitude, drop longitude to a single feature called distance, we are also going to transform the date column to day of the week column."
   ]
  },
  {
   "cell_type": "markdown",
   "id": "f2b110fd-264d-477a-b22b-de000b2a45df",
   "metadata": {},
   "source": [
    "## Data Cleaning"
   ]
  },
  {
   "cell_type": "markdown",
   "id": "8cb4951f-ccc4-45b5-8075-a0e297952bd5",
   "metadata": {},
   "source": [
    "Handling missing values"
   ]
  },
  {
   "cell_type": "code",
   "execution_count": 6,
   "id": "4378d608-eb96-40b6-ac03-144e57ae2c5a",
   "metadata": {},
   "outputs": [
    {
     "name": "stdout",
     "output_type": "stream",
     "text": [
      "Agent_Rating\n",
      "Weather\n"
     ]
    }
   ],
   "source": [
    "for column in df.columns:\n",
    "    if df[column].isna().sum() > 0:\n",
    "        print(column)"
   ]
  },
  {
   "cell_type": "markdown",
   "id": "c69292a0-8875-4585-af0c-1c508ddee722",
   "metadata": {},
   "source": [
    "So only 2 columns, Agent_Rating and Weather have null data"
   ]
  },
  {
   "cell_type": "code",
   "execution_count": 7,
   "id": "db1dc3af-c14b-448d-a58b-fcde4ea6a185",
   "metadata": {},
   "outputs": [
    {
     "data": {
      "text/plain": [
       "54"
      ]
     },
     "execution_count": 7,
     "metadata": {},
     "output_type": "execute_result"
    }
   ],
   "source": [
    "df[\"Agent_Rating\"].isna().sum()"
   ]
  },
  {
   "cell_type": "code",
   "execution_count": 8,
   "id": "0753ee91-7edd-4e38-b2df-a79535a144cf",
   "metadata": {},
   "outputs": [
    {
     "data": {
      "text/plain": [
       "91"
      ]
     },
     "execution_count": 8,
     "metadata": {},
     "output_type": "execute_result"
    }
   ],
   "source": [
    "df[\"Weather\"].isna().sum()"
   ]
  },
  {
   "cell_type": "code",
   "execution_count": 9,
   "id": "2989af10-f562-4ae0-8159-d4fb82c44109",
   "metadata": {},
   "outputs": [
    {
     "data": {
      "text/html": [
       "<div>\n",
       "<style scoped>\n",
       "    .dataframe tbody tr th:only-of-type {\n",
       "        vertical-align: middle;\n",
       "    }\n",
       "\n",
       "    .dataframe tbody tr th {\n",
       "        vertical-align: top;\n",
       "    }\n",
       "\n",
       "    .dataframe thead th {\n",
       "        text-align: right;\n",
       "    }\n",
       "</style>\n",
       "<table border=\"1\" class=\"dataframe\">\n",
       "  <thead>\n",
       "    <tr style=\"text-align: right;\">\n",
       "      <th></th>\n",
       "      <th>Order_ID</th>\n",
       "      <th>Agent_Age</th>\n",
       "      <th>Agent_Rating</th>\n",
       "      <th>Store_Latitude</th>\n",
       "      <th>Store_Longitude</th>\n",
       "      <th>Drop_Latitude</th>\n",
       "      <th>Drop_Longitude</th>\n",
       "      <th>Order_Date</th>\n",
       "      <th>Order_Time</th>\n",
       "      <th>Pickup_Time</th>\n",
       "      <th>Weather</th>\n",
       "      <th>Traffic</th>\n",
       "      <th>Vehicle</th>\n",
       "      <th>Area</th>\n",
       "      <th>Delivery_Time</th>\n",
       "      <th>Category</th>\n",
       "    </tr>\n",
       "  </thead>\n",
       "  <tbody>\n",
       "  </tbody>\n",
       "</table>\n",
       "</div>"
      ],
      "text/plain": [
       "Empty DataFrame\n",
       "Columns: [Order_ID, Agent_Age, Agent_Rating, Store_Latitude, Store_Longitude, Drop_Latitude, Drop_Longitude, Order_Date, Order_Time, Pickup_Time, Weather, Traffic, Vehicle, Area, Delivery_Time, Category]\n",
       "Index: []"
      ]
     },
     "execution_count": 9,
     "metadata": {},
     "output_type": "execute_result"
    }
   ],
   "source": [
    "df[df[\"Weather\"].isna() & df[\"Agent_Rating\"].isna()]"
   ]
  },
  {
   "cell_type": "markdown",
   "id": "3087c480-050e-4113-99d2-78b760f5da0e",
   "metadata": {},
   "source": [
    "So, there is no overlap, and in total there are 145 records with missing value, since this contributes only 0.33% of our total dataset, we can drop it"
   ]
  },
  {
   "cell_type": "code",
   "execution_count": 10,
   "id": "3fb8c085-5e55-4fcd-ad9a-9bb7c160d30d",
   "metadata": {},
   "outputs": [],
   "source": [
    "df.dropna(inplace = True)"
   ]
  },
  {
   "cell_type": "code",
   "execution_count": 11,
   "id": "7fa1c6b8-4e91-4634-86a9-59d13c66acdb",
   "metadata": {},
   "outputs": [
    {
     "name": "stdout",
     "output_type": "stream",
     "text": [
      "<class 'pandas.core.frame.DataFrame'>\n",
      "Index: 43594 entries, 0 to 43738\n",
      "Data columns (total 16 columns):\n",
      " #   Column           Non-Null Count  Dtype  \n",
      "---  ------           --------------  -----  \n",
      " 0   Order_ID         43594 non-null  object \n",
      " 1   Agent_Age        43594 non-null  int64  \n",
      " 2   Agent_Rating     43594 non-null  float64\n",
      " 3   Store_Latitude   43594 non-null  float64\n",
      " 4   Store_Longitude  43594 non-null  float64\n",
      " 5   Drop_Latitude    43594 non-null  float64\n",
      " 6   Drop_Longitude   43594 non-null  float64\n",
      " 7   Order_Date       43594 non-null  object \n",
      " 8   Order_Time       43594 non-null  object \n",
      " 9   Pickup_Time      43594 non-null  object \n",
      " 10  Weather          43594 non-null  object \n",
      " 11  Traffic          43594 non-null  object \n",
      " 12  Vehicle          43594 non-null  object \n",
      " 13  Area             43594 non-null  object \n",
      " 14  Delivery_Time    43594 non-null  int64  \n",
      " 15  Category         43594 non-null  object \n",
      "dtypes: float64(5), int64(2), object(9)\n",
      "memory usage: 5.7+ MB\n"
     ]
    }
   ],
   "source": [
    "df.info()"
   ]
  },
  {
   "cell_type": "markdown",
   "id": "a05bd6dd-0a2f-45af-8a72-e48b054d0e4a",
   "metadata": {},
   "source": [
    "Handling Duplicates"
   ]
  },
  {
   "cell_type": "code",
   "execution_count": 12,
   "id": "320bdd35-777a-4510-9f12-08081e26a4b2",
   "metadata": {},
   "outputs": [
    {
     "data": {
      "text/plain": [
       "0"
      ]
     },
     "execution_count": 12,
     "metadata": {},
     "output_type": "execute_result"
    }
   ],
   "source": [
    "df.duplicated().sum()"
   ]
  },
  {
   "cell_type": "markdown",
   "id": "22f4f1bc-c84a-434f-9490-f13a694581c5",
   "metadata": {},
   "source": [
    "There are no duplicate records"
   ]
  },
  {
   "cell_type": "markdown",
   "id": "0dc33830-f759-4f90-87f9-eaee78b6e542",
   "metadata": {},
   "source": [
    "Column Transformations"
   ]
  },
  {
   "cell_type": "code",
   "execution_count": 13,
   "id": "ea13335a-d6bc-476b-b5c3-70494b9cdbec",
   "metadata": {},
   "outputs": [],
   "source": [
    "def haversine(lat1, lon1, lat2, lon2):\n",
    "    R = 6371  # Radius of the Earth in km\n",
    "    # Convert degrees to radians\n",
    "    phi1 = math.radians(lat1)\n",
    "    phi2 = math.radians(lat2)\n",
    "    delta_phi = math.radians(lat2 - lat1)\n",
    "    delta_lambda = math.radians(lon2 - lon1)\n",
    "    # Haversine formula\n",
    "    a = math.sin(delta_phi / 2)**2 + \\\n",
    "        math.cos(phi1) * math.cos(phi2) * math.sin(delta_lambda / 2)**2\n",
    "    c = 2 * math.atan2(math.sqrt(a), math.sqrt(1 - a))\n",
    "    distance = R * c  # in kilometers\n",
    "    return distance\n",
    "\n",
    "df[\"Distance\"] = df.apply(lambda row: haversine(row['Store_Latitude'], row['Store_Longitude'], row['Drop_Latitude'], row['Drop_Longitude']), axis=1)"
   ]
  },
  {
   "cell_type": "code",
   "execution_count": 14,
   "id": "7962123e-4d0e-4508-95c5-bdec91b602f2",
   "metadata": {},
   "outputs": [],
   "source": [
    "df.drop(columns = ['Store_Latitude', 'Store_Longitude', 'Drop_Latitude', 'Drop_Longitude'], axis = 1, inplace = True)"
   ]
  },
  {
   "cell_type": "code",
   "execution_count": 15,
   "id": "458d1311-7c55-4c84-afc3-228036910623",
   "metadata": {},
   "outputs": [],
   "source": [
    "df.drop(columns = ['Order_ID'], axis = 1, inplace = True)"
   ]
  },
  {
   "cell_type": "code",
   "execution_count": 16,
   "id": "153030d6-edbe-4d25-bf4c-434960353bcb",
   "metadata": {},
   "outputs": [],
   "source": [
    "df[\"Order_Date\"] = pd.to_datetime(df[\"Order_Date\"]).dt.dayofweek"
   ]
  },
  {
   "cell_type": "code",
   "execution_count": 17,
   "id": "526865d9-2530-4f90-91f1-9ddeac10d666",
   "metadata": {},
   "outputs": [
    {
     "name": "stdout",
     "output_type": "stream",
     "text": [
      "<class 'pandas.core.frame.DataFrame'>\n",
      "Index: 43594 entries, 0 to 43738\n",
      "Data columns (total 12 columns):\n",
      " #   Column         Non-Null Count  Dtype  \n",
      "---  ------         --------------  -----  \n",
      " 0   Agent_Age      43594 non-null  int64  \n",
      " 1   Agent_Rating   43594 non-null  float64\n",
      " 2   Order_Date     43594 non-null  int32  \n",
      " 3   Order_Time     43594 non-null  object \n",
      " 4   Pickup_Time    43594 non-null  object \n",
      " 5   Weather        43594 non-null  object \n",
      " 6   Traffic        43594 non-null  object \n",
      " 7   Vehicle        43594 non-null  object \n",
      " 8   Area           43594 non-null  object \n",
      " 9   Delivery_Time  43594 non-null  int64  \n",
      " 10  Category       43594 non-null  object \n",
      " 11  Distance       43594 non-null  float64\n",
      "dtypes: float64(2), int32(1), int64(2), object(7)\n",
      "memory usage: 4.2+ MB\n"
     ]
    }
   ],
   "source": [
    "df.info()"
   ]
  },
  {
   "cell_type": "markdown",
   "id": "52dd19c1-5e14-47fc-84f2-549ac887e354",
   "metadata": {},
   "source": [
    "Handling Outliers"
   ]
  },
  {
   "cell_type": "code",
   "execution_count": 18,
   "id": "c5584032-4d6c-4108-9cba-e87a3b709df2",
   "metadata": {},
   "outputs": [
    {
     "data": {
      "text/plain": [
       "Index(['Agent_Age', 'Agent_Rating', 'Order_Date', 'Delivery_Time', 'Distance'], dtype='object')"
      ]
     },
     "execution_count": 18,
     "metadata": {},
     "output_type": "execute_result"
    }
   ],
   "source": [
    "numeric_cols = df.select_dtypes(include = [\"int64\",\"float64\",\"int32\"])\n",
    "numeric_cols.columns"
   ]
  },
  {
   "cell_type": "code",
   "execution_count": 19,
   "id": "4f670d1c-4010-4ed7-97a4-c86b27087242",
   "metadata": {},
   "outputs": [
    {
     "data": {
      "image/png": "[encoded data removed]",
      "text/plain": [
       "<Figure size 1200x1000 with 5 Axes>"
      ]
     },
     "metadata": {},
     "output_type": "display_data"
    }
   ],
   "source": [
    "plt.figure(figsize=(12, 10))\n",
    "for i,col in enumerate(numeric_cols):\n",
    "    plt.subplot(3,2,i+1)\n",
    "    df[[col]].boxplot()\n",
    "plt.show()"
   ]
  },
  {
   "cell_type": "code",
   "execution_count": 20,
   "id": "2f34a22b-6d78-4d11-a0b6-de0575476977",
   "metadata": {},
   "outputs": [
    {
     "data": {
      "text/plain": [
       "Agent_Age        151\n",
       "Agent_Rating     151\n",
       "Order_Date       151\n",
       "Order_Time       151\n",
       "Pickup_Time      151\n",
       "Weather          151\n",
       "Traffic          151\n",
       "Vehicle          151\n",
       "Area             151\n",
       "Delivery_Time    151\n",
       "Category         151\n",
       "Distance         151\n",
       "dtype: int64"
      ]
     },
     "execution_count": 20,
     "metadata": {},
     "output_type": "execute_result"
    }
   ],
   "source": [
    "df[df[\"Distance\"] > 2000].count()"
   ]
  },
  {
   "cell_type": "markdown",
   "id": "81eed44a-e5c1-490a-8da8-79d245cd66d6",
   "metadata": {},
   "source": [
    "We are only going to handle distance outliers, rest should be fine, because it is normal to give bad ratings for delivery agent"
   ]
  },
  {
   "cell_type": "code",
   "execution_count": 21,
   "id": "ba284f1c-ec63-444a-b631-abe71d7c4f7d",
   "metadata": {},
   "outputs": [
    {
     "data": {
      "text/plain": [
       "Index([   90,   275,  1045,  1705,  1893,  2015,  2052,  2112,  2202,  2526,\n",
       "       ...\n",
       "       38890, 38917, 39476, 39927, 41869, 42071, 42252, 42824, 43105, 43343],\n",
       "      dtype='int64', length=151)"
      ]
     },
     "execution_count": 21,
     "metadata": {},
     "output_type": "execute_result"
    }
   ],
   "source": [
    "Q1 = np.percentile(df[\"Distance\"],25)\n",
    "Q3 = np.percentile(df[\"Distance\"],75)\n",
    "IQR = Q3 - Q1\n",
    "mini = Q1 - 1.5*IQR\n",
    "maxi = Q3 + 1.5*IQR\n",
    "mask = (df[\"Distance\"] < mini) | (df[\"Distance\"] > maxi)\n",
    "df[mask].index"
   ]
  },
  {
   "cell_type": "code",
   "execution_count": 22,
   "id": "c8340545-f344-48f7-8260-f025dfa5e606",
   "metadata": {},
   "outputs": [],
   "source": [
    "df.drop(index = df[mask].index, inplace = True)"
   ]
  },
  {
   "cell_type": "code",
   "execution_count": 23,
   "id": "b6e4985f-711f-4d55-9cb8-2653cca06320",
   "metadata": {},
   "outputs": [
    {
     "data": {
      "image/png": "[encoded data removed]",
      "text/plain": [
       "<Figure size 1200x1000 with 5 Axes>"
      ]
     },
     "metadata": {},
     "output_type": "display_data"
    }
   ],
   "source": [
    "plt.figure(figsize=(12, 10))\n",
    "for i,col in enumerate(numeric_cols):\n",
    "    plt.subplot(3,2,i+1)\n",
    "    df[[col]].boxplot()\n",
    "plt.show()"
   ]
  },
  {
   "cell_type": "code",
   "execution_count": 24,
   "id": "efddabae-98a9-46f6-9108-cbce922c0466",
   "metadata": {},
   "outputs": [
    {
     "data": {
      "text/plain": [
       "Index([], dtype='int64')"
      ]
     },
     "execution_count": 24,
     "metadata": {},
     "output_type": "execute_result"
    }
   ],
   "source": [
    "Q1 = np.percentile(df[\"Distance\"],25)\n",
    "Q3 = np.percentile(df[\"Distance\"],75)\n",
    "IQR = Q3 - Q1\n",
    "mini = Q1 - 1.5*IQR\n",
    "maxi = Q3 + 1.5*IQR\n",
    "mask = (df[\"Distance\"] < mini) | (df[\"Distance\"] > maxi)\n",
    "df[mask].index"
   ]
  },
  {
   "cell_type": "markdown",
   "id": "e9f9c4be-f427-4ce0-a9a1-fd6994d7d5e3",
   "metadata": {},
   "source": [
    "Handling typos"
   ]
  },
  {
   "cell_type": "code",
   "execution_count": 25,
   "id": "2959f7c9-106f-406e-9a72-dd3e07398432",
   "metadata": {},
   "outputs": [
    {
     "data": {
      "text/plain": [
       "Weather\n",
       "Fog           7412\n",
       "Stormy        7344\n",
       "Cloudy        7253\n",
       "Sandstorms    7209\n",
       "Windy         7187\n",
       "Sunny         7038\n",
       "Name: count, dtype: int64"
      ]
     },
     "execution_count": 25,
     "metadata": {},
     "output_type": "execute_result"
    }
   ],
   "source": [
    "df[\"Weather\"].value_counts()"
   ]
  },
  {
   "cell_type": "code",
   "execution_count": 26,
   "id": "6bffbcb6-95e0-480a-81d0-11f3d63a8a3b",
   "metadata": {},
   "outputs": [
    {
     "data": {
      "text/plain": [
       "Traffic\n",
       "Low        14918\n",
       "Jam        13664\n",
       "Medium     10584\n",
       "High        4277\n",
       "Name: count, dtype: int64"
      ]
     },
     "execution_count": 26,
     "metadata": {},
     "output_type": "execute_result"
    }
   ],
   "source": [
    "df[\"Traffic\"].value_counts()"
   ]
  },
  {
   "cell_type": "code",
   "execution_count": 27,
   "id": "3007ea3d-b0e9-4f6c-8aee-0bae638f2c93",
   "metadata": {},
   "outputs": [
    {
     "data": {
      "text/plain": [
       "Vehicle\n",
       "motorcycle     25394\n",
       "scooter        14545\n",
       "van             3504\n",
       "Name: count, dtype: int64"
      ]
     },
     "execution_count": 27,
     "metadata": {},
     "output_type": "execute_result"
    }
   ],
   "source": [
    "df[\"Vehicle\"].value_counts()"
   ]
  },
  {
   "cell_type": "code",
   "execution_count": 28,
   "id": "2d34a199-2f94-433c-85d1-c7b79580e4da",
   "metadata": {},
   "outputs": [
    {
     "data": {
      "text/plain": [
       "Area\n",
       "Metropolitian     32483\n",
       "Urban              9676\n",
       "Other              1132\n",
       "Semi-Urban          152\n",
       "Name: count, dtype: int64"
      ]
     },
     "execution_count": 28,
     "metadata": {},
     "output_type": "execute_result"
    }
   ],
   "source": [
    "df[\"Area\"].value_counts()"
   ]
  },
  {
   "cell_type": "code",
   "execution_count": 29,
   "id": "ec3007f3-db77-40e8-9909-6200426d02ea",
   "metadata": {},
   "outputs": [
    {
     "data": {
      "text/plain": [
       "Category\n",
       "Electronics     2833\n",
       "Books           2801\n",
       "Jewelry         2785\n",
       "Toys            2761\n",
       "Skincare        2758\n",
       "Snacks          2752\n",
       "Outdoors        2733\n",
       "Apparel         2710\n",
       "Sports          2695\n",
       "Grocery         2678\n",
       "Pet Supplies    2670\n",
       "Home            2664\n",
       "Cosmetics       2659\n",
       "Kitchen         2654\n",
       "Clothing        2648\n",
       "Shoes           2642\n",
       "Name: count, dtype: int64"
      ]
     },
     "execution_count": 29,
     "metadata": {},
     "output_type": "execute_result"
    }
   ],
   "source": [
    "df[\"Category\"].value_counts()"
   ]
  },
  {
   "cell_type": "markdown",
   "id": "33b68ee0-8c89-4af7-bc1d-c93fb69f22a2",
   "metadata": {},
   "source": [
    "No typos found"
   ]
  },
  {
   "cell_type": "code",
   "execution_count": 30,
   "id": "34d25656-aa8c-4972-94d8-b4bf216fb236",
   "metadata": {},
   "outputs": [
    {
     "name": "stdout",
     "output_type": "stream",
     "text": [
      "<class 'pandas.core.frame.DataFrame'>\n",
      "Index: 43443 entries, 0 to 43738\n",
      "Data columns (total 12 columns):\n",
      " #   Column         Non-Null Count  Dtype  \n",
      "---  ------         --------------  -----  \n",
      " 0   Agent_Age      43443 non-null  int64  \n",
      " 1   Agent_Rating   43443 non-null  float64\n",
      " 2   Order_Date     43443 non-null  int32  \n",
      " 3   Order_Time     43443 non-null  object \n",
      " 4   Pickup_Time    43443 non-null  object \n",
      " 5   Weather        43443 non-null  object \n",
      " 6   Traffic        43443 non-null  object \n",
      " 7   Vehicle        43443 non-null  object \n",
      " 8   Area           43443 non-null  object \n",
      " 9   Delivery_Time  43443 non-null  int64  \n",
      " 10  Category       43443 non-null  object \n",
      " 11  Distance       43443 non-null  float64\n",
      "dtypes: float64(2), int32(1), int64(2), object(7)\n",
      "memory usage: 4.1+ MB\n"
     ]
    }
   ],
   "source": [
    "df.info()"
   ]
  },
  {
   "cell_type": "markdown",
   "id": "dc7014c8-7254-4025-a564-de54d475f148",
   "metadata": {},
   "source": [
    "## Variable Transformations"
   ]
  },
  {
   "cell_type": "code",
   "execution_count": 31,
   "id": "9779769c-e783-4b97-a99c-a5cce999ff75",
   "metadata": {},
   "outputs": [
    {
     "data": {
      "text/plain": [
       "{'Area',\n",
       " 'Category',\n",
       " 'Order_Time',\n",
       " 'Pickup_Time',\n",
       " 'Traffic',\n",
       " 'Vehicle',\n",
       " 'Weather'}"
      ]
     },
     "execution_count": 31,
     "metadata": {},
     "output_type": "execute_result"
    }
   ],
   "source": [
    "all_cols = set(df.columns)\n",
    "numeric_cols = set(df.select_dtypes(include = [\"int64\",\"int32\",\"float64\"]).columns)\n",
    "categorical_cols = all_cols - numeric_cols\n",
    "categorical_cols"
   ]
  },
  {
   "cell_type": "code",
   "execution_count": 32,
   "id": "6bc2ade7-3962-41fc-b7fd-0047bc87247f",
   "metadata": {},
   "outputs": [
    {
     "data": {
      "text/plain": [
       "{'Agent_Age', 'Agent_Rating', 'Delivery_Time', 'Distance', 'Order_Date'}"
      ]
     },
     "execution_count": 32,
     "metadata": {},
     "output_type": "execute_result"
    }
   ],
   "source": [
    "numeric_cols"
   ]
  },
  {
   "cell_type": "code",
   "execution_count": 33,
   "id": "08ce45e7-dbe3-464b-8430-5f7cf1d3f78f",
   "metadata": {},
   "outputs": [],
   "source": [
    "cols_to_be_transformed = list(categorical_cols.union({\"Delivery_Time\"}))"
   ]
  },
  {
   "cell_type": "code",
   "execution_count": 34,
   "id": "ae23470f-055d-448b-ae77-33cf3acaefe5",
   "metadata": {},
   "outputs": [
    {
     "data": {
      "text/html": [
       "<div>\n",
       "<style scoped>\n",
       "    .dataframe tbody tr th:only-of-type {\n",
       "        vertical-align: middle;\n",
       "    }\n",
       "\n",
       "    .dataframe tbody tr th {\n",
       "        vertical-align: top;\n",
       "    }\n",
       "\n",
       "    .dataframe thead th {\n",
       "        text-align: right;\n",
       "    }\n",
       "</style>\n",
       "<table border=\"1\" class=\"dataframe\">\n",
       "  <thead>\n",
       "    <tr style=\"text-align: right;\">\n",
       "      <th></th>\n",
       "      <th>Vehicle</th>\n",
       "      <th>Order_Time</th>\n",
       "      <th>Area</th>\n",
       "      <th>Pickup_Time</th>\n",
       "      <th>Delivery_Time</th>\n",
       "      <th>Weather</th>\n",
       "      <th>Category</th>\n",
       "      <th>Traffic</th>\n",
       "    </tr>\n",
       "  </thead>\n",
       "  <tbody>\n",
       "    <tr>\n",
       "      <th>0</th>\n",
       "      <td>motorcycle</td>\n",
       "      <td>11:30:00</td>\n",
       "      <td>Urban</td>\n",
       "      <td>11:45:00</td>\n",
       "      <td>120</td>\n",
       "      <td>Sunny</td>\n",
       "      <td>Clothing</td>\n",
       "      <td>High</td>\n",
       "    </tr>\n",
       "    <tr>\n",
       "      <th>1</th>\n",
       "      <td>scooter</td>\n",
       "      <td>19:45:00</td>\n",
       "      <td>Metropolitian</td>\n",
       "      <td>19:50:00</td>\n",
       "      <td>165</td>\n",
       "      <td>Stormy</td>\n",
       "      <td>Electronics</td>\n",
       "      <td>Jam</td>\n",
       "    </tr>\n",
       "    <tr>\n",
       "      <th>2</th>\n",
       "      <td>motorcycle</td>\n",
       "      <td>08:30:00</td>\n",
       "      <td>Urban</td>\n",
       "      <td>08:45:00</td>\n",
       "      <td>130</td>\n",
       "      <td>Sandstorms</td>\n",
       "      <td>Sports</td>\n",
       "      <td>Low</td>\n",
       "    </tr>\n",
       "    <tr>\n",
       "      <th>3</th>\n",
       "      <td>motorcycle</td>\n",
       "      <td>18:00:00</td>\n",
       "      <td>Metropolitian</td>\n",
       "      <td>18:10:00</td>\n",
       "      <td>105</td>\n",
       "      <td>Sunny</td>\n",
       "      <td>Cosmetics</td>\n",
       "      <td>Medium</td>\n",
       "    </tr>\n",
       "    <tr>\n",
       "      <th>4</th>\n",
       "      <td>scooter</td>\n",
       "      <td>13:30:00</td>\n",
       "      <td>Metropolitian</td>\n",
       "      <td>13:45:00</td>\n",
       "      <td>150</td>\n",
       "      <td>Cloudy</td>\n",
       "      <td>Toys</td>\n",
       "      <td>High</td>\n",
       "    </tr>\n",
       "  </tbody>\n",
       "</table>\n",
       "</div>"
      ],
      "text/plain": [
       "       Vehicle Order_Time            Area Pickup_Time  Delivery_Time  \\\n",
       "0  motorcycle    11:30:00          Urban     11:45:00            120   \n",
       "1     scooter    19:45:00  Metropolitian     19:50:00            165   \n",
       "2  motorcycle    08:30:00          Urban     08:45:00            130   \n",
       "3  motorcycle    18:00:00  Metropolitian     18:10:00            105   \n",
       "4     scooter    13:30:00  Metropolitian     13:45:00            150   \n",
       "\n",
       "      Weather     Category  Traffic  \n",
       "0       Sunny     Clothing    High   \n",
       "1      Stormy  Electronics     Jam   \n",
       "2  Sandstorms       Sports     Low   \n",
       "3       Sunny    Cosmetics  Medium   \n",
       "4      Cloudy         Toys    High   "
      ]
     },
     "execution_count": 34,
     "metadata": {},
     "output_type": "execute_result"
    }
   ],
   "source": [
    "df[cols_to_be_transformed].head()"
   ]
  },
  {
   "cell_type": "code",
   "execution_count": 35,
   "id": "a77b64d6-0103-4294-a78f-fb02eedcea49",
   "metadata": {},
   "outputs": [
    {
     "data": {
      "text/plain": [
       "['Fog', 'Stormy', 'Cloudy', 'Sandstorms', 'Windy', 'Sunny']"
      ]
     },
     "execution_count": 35,
     "metadata": {},
     "output_type": "execute_result"
    }
   ],
   "source": [
    "df[\"Weather\"].value_counts().index.tolist()"
   ]
  },
  {
   "cell_type": "code",
   "execution_count": 36,
   "id": "fe04e4b5-6ee4-4a76-a219-98abec095cfb",
   "metadata": {},
   "outputs": [
    {
     "data": {
      "image/png": "[encoded data removed]",
      "text/plain": [
       "<Figure size 640x480 with 1 Axes>"
      ]
     },
     "metadata": {},
     "output_type": "display_data"
    }
   ],
   "source": [
    "df.groupby(\"Weather\")[\"Delivery_Time\"].mean().to_frame().sort_values(by = \"Delivery_Time\").plot(kind = \"bar\")\n",
    "plt.show()"
   ]
  },
  {
   "cell_type": "code",
   "execution_count": 37,
   "id": "a0ae6e2a-375c-4b45-8f27-1ecb089ad326",
   "metadata": {},
   "outputs": [
    {
     "data": {
      "text/html": [
       "<div>\n",
       "<style scoped>\n",
       "    .dataframe tbody tr th:only-of-type {\n",
       "        vertical-align: middle;\n",
       "    }\n",
       "\n",
       "    .dataframe tbody tr th {\n",
       "        vertical-align: top;\n",
       "    }\n",
       "\n",
       "    .dataframe thead th {\n",
       "        text-align: right;\n",
       "    }\n",
       "</style>\n",
       "<table border=\"1\" class=\"dataframe\">\n",
       "  <thead>\n",
       "    <tr style=\"text-align: right;\">\n",
       "      <th></th>\n",
       "      <th>Delivery_Time</th>\n",
       "    </tr>\n",
       "    <tr>\n",
       "      <th>Weather</th>\n",
       "      <th></th>\n",
       "    </tr>\n",
       "  </thead>\n",
       "  <tbody>\n",
       "    <tr>\n",
       "      <th>Sunny</th>\n",
       "      <td>100.0</td>\n",
       "    </tr>\n",
       "    <tr>\n",
       "      <th>Sandstorms</th>\n",
       "      <td>125.0</td>\n",
       "    </tr>\n",
       "    <tr>\n",
       "      <th>Stormy</th>\n",
       "      <td>125.0</td>\n",
       "    </tr>\n",
       "    <tr>\n",
       "      <th>Windy</th>\n",
       "      <td>125.0</td>\n",
       "    </tr>\n",
       "    <tr>\n",
       "      <th>Fog</th>\n",
       "      <td>135.0</td>\n",
       "    </tr>\n",
       "    <tr>\n",
       "      <th>Cloudy</th>\n",
       "      <td>140.0</td>\n",
       "    </tr>\n",
       "  </tbody>\n",
       "</table>\n",
       "</div>"
      ],
      "text/plain": [
       "            Delivery_Time\n",
       "Weather                  \n",
       "Sunny               100.0\n",
       "Sandstorms          125.0\n",
       "Stormy              125.0\n",
       "Windy               125.0\n",
       "Fog                 135.0\n",
       "Cloudy              140.0"
      ]
     },
     "execution_count": 37,
     "metadata": {},
     "output_type": "execute_result"
    }
   ],
   "source": [
    "df.groupby(\"Weather\")[\"Delivery_Time\"].median().to_frame().sort_values(by = \"Delivery_Time\")"
   ]
  },
  {
   "cell_type": "markdown",
   "id": "622c2505-25c9-4f50-ab31-d0aeebc34f21",
   "metadata": {},
   "source": [
    "I am ordering weather in the increasing order for diffuclty to commute: [\"Sunny\",\"Sandstorms\",\"Stormy\",\"Windy\",\"Fog\",\"Cloudy\"] <br>\n",
    "Sunny -> 1 <br>\n",
    "Sandstorms,Stormy,Windy -> 2 <br>\n",
    "Fog, Cloudy -> 3 <br>"
   ]
  },
  {
   "cell_type": "code",
   "execution_count": 38,
   "id": "97ddb37e-2d81-45cd-940f-2335e0f50953",
   "metadata": {},
   "outputs": [],
   "source": [
    "df.loc[df[\"Weather\"].isin([\"Sunny\"]), \"Weather\"] = 1\n",
    "df.loc[df[\"Weather\"].isin([\"Stormy\", \"Sandstorms\",\"Windy\"]), \"Weather\"] = 2\n",
    "df.loc[df[\"Weather\"].isin([\"Fog\", \"Cloudy\"]), \"Weather\"] = 3"
   ]
  },
  {
   "cell_type": "code",
   "execution_count": 39,
   "id": "764ec5a6-e5b0-4f5e-9711-9a7b57a98c5b",
   "metadata": {},
   "outputs": [
    {
     "data": {
      "image/png": "[encoded data removed]",
      "text/plain": [
       "<Figure size 640x480 with 1 Axes>"
      ]
     },
     "metadata": {},
     "output_type": "display_data"
    }
   ],
   "source": [
    "df.groupby(\"Category\")[\"Delivery_Time\"].mean().to_frame().sort_values(by = \"Delivery_Time\").plot(kind = \"bar\")\n",
    "plt.show()"
   ]
  },
  {
   "cell_type": "markdown",
   "id": "c15ea304-2d46-4374-823c-833d1454a673",
   "metadata": {},
   "source": [
    "Here except for Grocery, all other categories take similar time, so I am categorizing it as grocery and non-grocery "
   ]
  },
  {
   "cell_type": "code",
   "execution_count": 40,
   "id": "09c12fce-d1bf-4705-93b9-2e0e9c8ad0ea",
   "metadata": {},
   "outputs": [],
   "source": [
    "df.loc[df[\"Category\"] == \"Grocery\", \"Category\"] = 0\n",
    "df.loc[df[\"Category\"] != \"Grocery\", \"Category\"] = 1"
   ]
  },
  {
   "cell_type": "code",
   "execution_count": 41,
   "id": "f5c9daf8-835c-4ad6-89a0-915deac8d675",
   "metadata": {},
   "outputs": [
    {
     "data": {
      "image/png": "[encoded data removed]",
      "text/plain": [
       "<Figure size 640x480 with 1 Axes>"
      ]
     },
     "metadata": {},
     "output_type": "display_data"
    }
   ],
   "source": [
    "df.groupby(\"Area\")[\"Delivery_Time\"].mean().to_frame().sort_values(by = \"Delivery_Time\").plot(kind = \"bar\")\n",
    "plt.show()"
   ]
  },
  {
   "cell_type": "code",
   "execution_count": 42,
   "id": "e9619292-71d8-44eb-bd95-8c7718cf04a5",
   "metadata": {},
   "outputs": [
    {
     "data": {
      "image/png": "[encoded data removed]",
      "text/plain": [
       "<Figure size 640x480 with 1 Axes>"
      ]
     },
     "metadata": {},
     "output_type": "display_data"
    }
   ],
   "source": [
    "df.groupby(\"Area\")[\"Delivery_Time\"].median().to_frame().sort_values(by = \"Delivery_Time\").plot(kind = \"bar\")\n",
    "plt.show()"
   ]
  },
  {
   "cell_type": "code",
   "execution_count": 43,
   "id": "de881aef-4e90-4762-bdad-dd358a0bd581",
   "metadata": {},
   "outputs": [
    {
     "data": {
      "text/html": [
       "<div>\n",
       "<style scoped>\n",
       "    .dataframe tbody tr th:only-of-type {\n",
       "        vertical-align: middle;\n",
       "    }\n",
       "\n",
       "    .dataframe tbody tr th {\n",
       "        vertical-align: top;\n",
       "    }\n",
       "\n",
       "    .dataframe thead th {\n",
       "        text-align: right;\n",
       "    }\n",
       "</style>\n",
       "<table border=\"1\" class=\"dataframe\">\n",
       "  <thead>\n",
       "    <tr style=\"text-align: right;\">\n",
       "      <th></th>\n",
       "      <th>Delivery_Time</th>\n",
       "    </tr>\n",
       "    <tr>\n",
       "      <th>Traffic</th>\n",
       "      <th></th>\n",
       "    </tr>\n",
       "  </thead>\n",
       "  <tbody>\n",
       "    <tr>\n",
       "      <th>Low</th>\n",
       "      <td>101.365129</td>\n",
       "    </tr>\n",
       "    <tr>\n",
       "      <th>Medium</th>\n",
       "      <td>126.850151</td>\n",
       "    </tr>\n",
       "    <tr>\n",
       "      <th>High</th>\n",
       "      <td>129.426935</td>\n",
       "    </tr>\n",
       "    <tr>\n",
       "      <th>Jam</th>\n",
       "      <td>147.779567</td>\n",
       "    </tr>\n",
       "  </tbody>\n",
       "</table>\n",
       "</div>"
      ],
      "text/plain": [
       "         Delivery_Time\n",
       "Traffic               \n",
       "Low         101.365129\n",
       "Medium      126.850151\n",
       "High        129.426935\n",
       "Jam         147.779567"
      ]
     },
     "execution_count": 43,
     "metadata": {},
     "output_type": "execute_result"
    }
   ],
   "source": [
    "df.groupby(\"Traffic\")[\"Delivery_Time\"].mean().to_frame().sort_values(by = \"Delivery_Time\")"
   ]
  },
  {
   "cell_type": "code",
   "execution_count": 44,
   "id": "bb472b84-ce11-45be-a0c1-97d07e9dacdb",
   "metadata": {},
   "outputs": [],
   "source": [
    "p = pd.get_dummies(df[[\"Vehicle\"]]).astype(\"int64\")\n",
    "df = pd.concat([df,p],axis = 1).drop(\"Vehicle\", axis = 1)"
   ]
  },
  {
   "cell_type": "code",
   "execution_count": 45,
   "id": "89498c7a-0401-4729-9060-70d842a8a041",
   "metadata": {},
   "outputs": [],
   "source": [
    "p = pd.get_dummies(df[[\"Traffic\"]]).astype(\"int64\")\n",
    "df = pd.concat([df,p],axis = 1).drop(\"Traffic\", axis = 1)"
   ]
  },
  {
   "cell_type": "code",
   "execution_count": 46,
   "id": "a7c22377-7fe9-4964-806c-3c067dc5df3a",
   "metadata": {},
   "outputs": [],
   "source": [
    "df.loc[df[\"Area\"] != \"Semi-Urban\", \"Area\"] = 0\n",
    "df.loc[df[\"Area\"] == \"Semi-Urban\", \"Area\"] = 1"
   ]
  },
  {
   "cell_type": "code",
   "execution_count": 47,
   "id": "1b267523-a88c-4516-ac08-d52e49bcb085",
   "metadata": {},
   "outputs": [
    {
     "data": {
      "text/html": [
       "<div>\n",
       "<style scoped>\n",
       "    .dataframe tbody tr th:only-of-type {\n",
       "        vertical-align: middle;\n",
       "    }\n",
       "\n",
       "    .dataframe tbody tr th {\n",
       "        vertical-align: top;\n",
       "    }\n",
       "\n",
       "    .dataframe thead th {\n",
       "        text-align: right;\n",
       "    }\n",
       "</style>\n",
       "<table border=\"1\" class=\"dataframe\">\n",
       "  <thead>\n",
       "    <tr style=\"text-align: right;\">\n",
       "      <th></th>\n",
       "      <th>Agent_Age</th>\n",
       "      <th>Agent_Rating</th>\n",
       "      <th>Order_Date</th>\n",
       "      <th>Order_Time</th>\n",
       "      <th>Pickup_Time</th>\n",
       "      <th>Weather</th>\n",
       "      <th>Area</th>\n",
       "      <th>Delivery_Time</th>\n",
       "      <th>Category</th>\n",
       "      <th>Distance</th>\n",
       "      <th>Vehicle_motorcycle</th>\n",
       "      <th>Vehicle_scooter</th>\n",
       "      <th>Vehicle_van</th>\n",
       "      <th>Traffic_High</th>\n",
       "      <th>Traffic_Jam</th>\n",
       "      <th>Traffic_Low</th>\n",
       "      <th>Traffic_Medium</th>\n",
       "    </tr>\n",
       "  </thead>\n",
       "  <tbody>\n",
       "    <tr>\n",
       "      <th>0</th>\n",
       "      <td>37</td>\n",
       "      <td>4.9</td>\n",
       "      <td>5</td>\n",
       "      <td>11:30:00</td>\n",
       "      <td>11:45:00</td>\n",
       "      <td>1</td>\n",
       "      <td>0</td>\n",
       "      <td>120</td>\n",
       "      <td>1</td>\n",
       "      <td>3.025149</td>\n",
       "      <td>1</td>\n",
       "      <td>0</td>\n",
       "      <td>0</td>\n",
       "      <td>1</td>\n",
       "      <td>0</td>\n",
       "      <td>0</td>\n",
       "      <td>0</td>\n",
       "    </tr>\n",
       "    <tr>\n",
       "      <th>1</th>\n",
       "      <td>34</td>\n",
       "      <td>4.5</td>\n",
       "      <td>4</td>\n",
       "      <td>19:45:00</td>\n",
       "      <td>19:50:00</td>\n",
       "      <td>2</td>\n",
       "      <td>0</td>\n",
       "      <td>165</td>\n",
       "      <td>1</td>\n",
       "      <td>20.183530</td>\n",
       "      <td>0</td>\n",
       "      <td>1</td>\n",
       "      <td>0</td>\n",
       "      <td>0</td>\n",
       "      <td>1</td>\n",
       "      <td>0</td>\n",
       "      <td>0</td>\n",
       "    </tr>\n",
       "    <tr>\n",
       "      <th>2</th>\n",
       "      <td>23</td>\n",
       "      <td>4.4</td>\n",
       "      <td>5</td>\n",
       "      <td>08:30:00</td>\n",
       "      <td>08:45:00</td>\n",
       "      <td>2</td>\n",
       "      <td>0</td>\n",
       "      <td>130</td>\n",
       "      <td>1</td>\n",
       "      <td>1.552758</td>\n",
       "      <td>1</td>\n",
       "      <td>0</td>\n",
       "      <td>0</td>\n",
       "      <td>0</td>\n",
       "      <td>0</td>\n",
       "      <td>1</td>\n",
       "      <td>0</td>\n",
       "    </tr>\n",
       "    <tr>\n",
       "      <th>3</th>\n",
       "      <td>38</td>\n",
       "      <td>4.7</td>\n",
       "      <td>1</td>\n",
       "      <td>18:00:00</td>\n",
       "      <td>18:10:00</td>\n",
       "      <td>1</td>\n",
       "      <td>0</td>\n",
       "      <td>105</td>\n",
       "      <td>1</td>\n",
       "      <td>7.790401</td>\n",
       "      <td>1</td>\n",
       "      <td>0</td>\n",
       "      <td>0</td>\n",
       "      <td>0</td>\n",
       "      <td>0</td>\n",
       "      <td>0</td>\n",
       "      <td>1</td>\n",
       "    </tr>\n",
       "    <tr>\n",
       "      <th>4</th>\n",
       "      <td>32</td>\n",
       "      <td>4.6</td>\n",
       "      <td>5</td>\n",
       "      <td>13:30:00</td>\n",
       "      <td>13:45:00</td>\n",
       "      <td>3</td>\n",
       "      <td>0</td>\n",
       "      <td>150</td>\n",
       "      <td>1</td>\n",
       "      <td>6.210138</td>\n",
       "      <td>0</td>\n",
       "      <td>1</td>\n",
       "      <td>0</td>\n",
       "      <td>1</td>\n",
       "      <td>0</td>\n",
       "      <td>0</td>\n",
       "      <td>0</td>\n",
       "    </tr>\n",
       "  </tbody>\n",
       "</table>\n",
       "</div>"
      ],
      "text/plain": [
       "   Agent_Age  Agent_Rating  Order_Date Order_Time Pickup_Time Weather Area  \\\n",
       "0         37           4.9           5   11:30:00    11:45:00       1    0   \n",
       "1         34           4.5           4   19:45:00    19:50:00       2    0   \n",
       "2         23           4.4           5   08:30:00    08:45:00       2    0   \n",
       "3         38           4.7           1   18:00:00    18:10:00       1    0   \n",
       "4         32           4.6           5   13:30:00    13:45:00       3    0   \n",
       "\n",
       "   Delivery_Time Category   Distance  Vehicle_motorcycle   Vehicle_scooter   \\\n",
       "0            120        1   3.025149                    1                 0   \n",
       "1            165        1  20.183530                    0                 1   \n",
       "2            130        1   1.552758                    1                 0   \n",
       "3            105        1   7.790401                    1                 0   \n",
       "4            150        1   6.210138                    0                 1   \n",
       "\n",
       "   Vehicle_van  Traffic_High   Traffic_Jam   Traffic_Low   Traffic_Medium   \n",
       "0            0              1             0             0                0  \n",
       "1            0              0             1             0                0  \n",
       "2            0              0             0             1                0  \n",
       "3            0              0             0             0                1  \n",
       "4            0              1             0             0                0  "
      ]
     },
     "execution_count": 47,
     "metadata": {},
     "output_type": "execute_result"
    }
   ],
   "source": [
    "df.head()"
   ]
  },
  {
   "cell_type": "code",
   "execution_count": 48,
   "id": "61066fc8-4e47-4bdc-9c33-778e55d1b805",
   "metadata": {},
   "outputs": [],
   "source": [
    "df[\"Order_Time\"] = pd.to_datetime(df[\"Order_Time\"], format=\"%H:%M:%S\").dt.time\n",
    "def get_time_of_day(t):\n",
    "    hour = t.hour\n",
    "    if 5 <= hour < 12:\n",
    "        return \"morning\"\n",
    "    elif 12 <= hour < 17:\n",
    "        return \"afternoon\"\n",
    "    elif 17 <= hour < 21:\n",
    "        return \"evening\"\n",
    "    else:\n",
    "        return \"night\"\n",
    "df[\"Order_Time\"] = df[\"Order_Time\"].apply(get_time_of_day)\n",
    "df = pd.get_dummies(df, columns=[\"Order_Time\"])\n"
   ]
  },
  {
   "cell_type": "code",
   "execution_count": 49,
   "id": "270ec888-e9af-4dc3-b988-592d3d8691b7",
   "metadata": {},
   "outputs": [],
   "source": [
    "df[\"Pickup_Time\"] = pd.to_datetime(df[\"Pickup_Time\"], format=\"%H:%M:%S\").dt.time\n",
    "def get_time_of_day(t):\n",
    "    hour = t.hour\n",
    "    if 5 <= hour < 12:\n",
    "        return \"morning\"\n",
    "    elif 12 <= hour < 17:\n",
    "        return \"afternoon\"\n",
    "    elif 17 <= hour < 21:\n",
    "        return \"evening\"\n",
    "    else:\n",
    "        return \"night\"\n",
    "df[\"Pickup_Time\"] = df[\"Pickup_Time\"].apply(get_time_of_day)\n",
    "df = pd.get_dummies(df, columns=[\"Pickup_Time\"])"
   ]
  },
  {
   "cell_type": "code",
   "execution_count": 50,
   "id": "2dc7989a-f587-4294-8353-88f90dbe0314",
   "metadata": {},
   "outputs": [
    {
     "data": {
      "text/html": [
       "<div>\n",
       "<style scoped>\n",
       "    .dataframe tbody tr th:only-of-type {\n",
       "        vertical-align: middle;\n",
       "    }\n",
       "\n",
       "    .dataframe tbody tr th {\n",
       "        vertical-align: top;\n",
       "    }\n",
       "\n",
       "    .dataframe thead th {\n",
       "        text-align: right;\n",
       "    }\n",
       "</style>\n",
       "<table border=\"1\" class=\"dataframe\">\n",
       "  <thead>\n",
       "    <tr style=\"text-align: right;\">\n",
       "      <th></th>\n",
       "      <th>Agent_Age</th>\n",
       "      <th>Agent_Rating</th>\n",
       "      <th>Order_Date</th>\n",
       "      <th>Weather</th>\n",
       "      <th>Area</th>\n",
       "      <th>Delivery_Time</th>\n",
       "      <th>Category</th>\n",
       "      <th>Distance</th>\n",
       "      <th>Vehicle_motorcycle</th>\n",
       "      <th>Vehicle_scooter</th>\n",
       "      <th>...</th>\n",
       "      <th>Traffic_Low</th>\n",
       "      <th>Traffic_Medium</th>\n",
       "      <th>Order_Time_afternoon</th>\n",
       "      <th>Order_Time_evening</th>\n",
       "      <th>Order_Time_morning</th>\n",
       "      <th>Order_Time_night</th>\n",
       "      <th>Pickup_Time_afternoon</th>\n",
       "      <th>Pickup_Time_evening</th>\n",
       "      <th>Pickup_Time_morning</th>\n",
       "      <th>Pickup_Time_night</th>\n",
       "    </tr>\n",
       "  </thead>\n",
       "  <tbody>\n",
       "    <tr>\n",
       "      <th>0</th>\n",
       "      <td>37</td>\n",
       "      <td>4.9</td>\n",
       "      <td>5</td>\n",
       "      <td>1</td>\n",
       "      <td>0</td>\n",
       "      <td>120</td>\n",
       "      <td>1</td>\n",
       "      <td>3.025149</td>\n",
       "      <td>1</td>\n",
       "      <td>0</td>\n",
       "      <td>...</td>\n",
       "      <td>0</td>\n",
       "      <td>0</td>\n",
       "      <td>False</td>\n",
       "      <td>False</td>\n",
       "      <td>True</td>\n",
       "      <td>False</td>\n",
       "      <td>False</td>\n",
       "      <td>False</td>\n",
       "      <td>True</td>\n",
       "      <td>False</td>\n",
       "    </tr>\n",
       "    <tr>\n",
       "      <th>1</th>\n",
       "      <td>34</td>\n",
       "      <td>4.5</td>\n",
       "      <td>4</td>\n",
       "      <td>2</td>\n",
       "      <td>0</td>\n",
       "      <td>165</td>\n",
       "      <td>1</td>\n",
       "      <td>20.183530</td>\n",
       "      <td>0</td>\n",
       "      <td>1</td>\n",
       "      <td>...</td>\n",
       "      <td>0</td>\n",
       "      <td>0</td>\n",
       "      <td>False</td>\n",
       "      <td>True</td>\n",
       "      <td>False</td>\n",
       "      <td>False</td>\n",
       "      <td>False</td>\n",
       "      <td>True</td>\n",
       "      <td>False</td>\n",
       "      <td>False</td>\n",
       "    </tr>\n",
       "    <tr>\n",
       "      <th>2</th>\n",
       "      <td>23</td>\n",
       "      <td>4.4</td>\n",
       "      <td>5</td>\n",
       "      <td>2</td>\n",
       "      <td>0</td>\n",
       "      <td>130</td>\n",
       "      <td>1</td>\n",
       "      <td>1.552758</td>\n",
       "      <td>1</td>\n",
       "      <td>0</td>\n",
       "      <td>...</td>\n",
       "      <td>1</td>\n",
       "      <td>0</td>\n",
       "      <td>False</td>\n",
       "      <td>False</td>\n",
       "      <td>True</td>\n",
       "      <td>False</td>\n",
       "      <td>False</td>\n",
       "      <td>False</td>\n",
       "      <td>True</td>\n",
       "      <td>False</td>\n",
       "    </tr>\n",
       "    <tr>\n",
       "      <th>3</th>\n",
       "      <td>38</td>\n",
       "      <td>4.7</td>\n",
       "      <td>1</td>\n",
       "      <td>1</td>\n",
       "      <td>0</td>\n",
       "      <td>105</td>\n",
       "      <td>1</td>\n",
       "      <td>7.790401</td>\n",
       "      <td>1</td>\n",
       "      <td>0</td>\n",
       "      <td>...</td>\n",
       "      <td>0</td>\n",
       "      <td>1</td>\n",
       "      <td>False</td>\n",
       "      <td>True</td>\n",
       "      <td>False</td>\n",
       "      <td>False</td>\n",
       "      <td>False</td>\n",
       "      <td>True</td>\n",
       "      <td>False</td>\n",
       "      <td>False</td>\n",
       "    </tr>\n",
       "    <tr>\n",
       "      <th>4</th>\n",
       "      <td>32</td>\n",
       "      <td>4.6</td>\n",
       "      <td>5</td>\n",
       "      <td>3</td>\n",
       "      <td>0</td>\n",
       "      <td>150</td>\n",
       "      <td>1</td>\n",
       "      <td>6.210138</td>\n",
       "      <td>0</td>\n",
       "      <td>1</td>\n",
       "      <td>...</td>\n",
       "      <td>0</td>\n",
       "      <td>0</td>\n",
       "      <td>True</td>\n",
       "      <td>False</td>\n",
       "      <td>False</td>\n",
       "      <td>False</td>\n",
       "      <td>True</td>\n",
       "      <td>False</td>\n",
       "      <td>False</td>\n",
       "      <td>False</td>\n",
       "    </tr>\n",
       "  </tbody>\n",
       "</table>\n",
       "<p>5 rows × 23 columns</p>\n",
       "</div>"
      ],
      "text/plain": [
       "   Agent_Age  Agent_Rating  Order_Date Weather Area  Delivery_Time Category  \\\n",
       "0         37           4.9           5       1    0            120        1   \n",
       "1         34           4.5           4       2    0            165        1   \n",
       "2         23           4.4           5       2    0            130        1   \n",
       "3         38           4.7           1       1    0            105        1   \n",
       "4         32           4.6           5       3    0            150        1   \n",
       "\n",
       "    Distance  Vehicle_motorcycle   Vehicle_scooter   ...  Traffic_Low   \\\n",
       "0   3.025149                    1                 0  ...             0   \n",
       "1  20.183530                    0                 1  ...             0   \n",
       "2   1.552758                    1                 0  ...             1   \n",
       "3   7.790401                    1                 0  ...             0   \n",
       "4   6.210138                    0                 1  ...             0   \n",
       "\n",
       "   Traffic_Medium   Order_Time_afternoon  Order_Time_evening  \\\n",
       "0                0                 False               False   \n",
       "1                0                 False                True   \n",
       "2                0                 False               False   \n",
       "3                1                 False                True   \n",
       "4                0                  True               False   \n",
       "\n",
       "   Order_Time_morning  Order_Time_night  Pickup_Time_afternoon  \\\n",
       "0                True             False                  False   \n",
       "1               False             False                  False   \n",
       "2                True             False                  False   \n",
       "3               False             False                  False   \n",
       "4               False             False                   True   \n",
       "\n",
       "   Pickup_Time_evening  Pickup_Time_morning  Pickup_Time_night  \n",
       "0                False                 True              False  \n",
       "1                 True                False              False  \n",
       "2                False                 True              False  \n",
       "3                 True                False              False  \n",
       "4                False                False              False  \n",
       "\n",
       "[5 rows x 23 columns]"
      ]
     },
     "execution_count": 50,
     "metadata": {},
     "output_type": "execute_result"
    }
   ],
   "source": [
    "df.head()"
   ]
  },
  {
   "cell_type": "markdown",
   "id": "c1f5b85a-0288-4070-8761-960f3a41545c",
   "metadata": {},
   "source": [
    "## Model Comparisons"
   ]
  },
  {
   "cell_type": "markdown",
   "id": "1d01b47a-2c57-443f-a79f-925490f269f0",
   "metadata": {},
   "source": [
    "Linear Regression"
   ]
  },
  {
   "cell_type": "code",
   "execution_count": 51,
   "id": "acee988e-14b4-42fd-983f-e3e54f7ce989",
   "metadata": {},
   "outputs": [],
   "source": [
    "from sklearn.linear_model import LinearRegression,Lasso\n",
    "from sklearn.model_selection import train_test_split\n",
    "from sklearn.metrics import r2_score\n",
    "from sklearn.preprocessing import PolynomialFeatures, StandardScaler"
   ]
  },
  {
   "cell_type": "code",
   "execution_count": 52,
   "id": "e5233476-1103-4084-90f6-3bd7381666bf",
   "metadata": {},
   "outputs": [],
   "source": [
    "x = df.drop(\"Delivery_Time\",axis = 1)\n",
    "y = df.Delivery_Time\n",
    "# ss = StandardScaler()\n",
    "# x = ss.fit_transform(x)"
   ]
  },
  {
   "cell_type": "code",
   "execution_count": 53,
   "id": "1b612968-b50c-4e8a-b79d-f6240097026a",
   "metadata": {},
   "outputs": [],
   "source": [
    "train_x,test_x,train_y,test_y = train_test_split(x,y,test_size = 0.3, random_state = 42)"
   ]
  },
  {
   "cell_type": "markdown",
   "id": "7dbd0f87-c1df-4e8d-8f0f-769deeb8e19a",
   "metadata": {},
   "source": [
    "Linear Regression with Polynomial Features"
   ]
  },
  {
   "cell_type": "code",
   "execution_count": 54,
   "id": "6cf0955f-8c50-41b9-bbdb-e2165193027b",
   "metadata": {},
   "outputs": [
    {
     "data": {
      "text/plain": [
       "-0.7874423293777217"
      ]
     },
     "execution_count": 54,
     "metadata": {},
     "output_type": "execute_result"
    }
   ],
   "source": [
    "lr = LinearRegression()\n",
    "lr.fit(train_x,train_y)\n",
    "pred_y = lr.predict(test_x)\n",
    "r2_score(pred_y,test_y)"
   ]
  },
  {
   "cell_type": "code",
   "execution_count": 55,
   "id": "02de5793-5775-4e23-9337-5146f300edd0",
   "metadata": {},
   "outputs": [
    {
     "data": {
      "text/plain": [
       "-0.8399366439571947"
      ]
     },
     "execution_count": 55,
     "metadata": {},
     "output_type": "execute_result"
    }
   ],
   "source": [
    "lasso = Lasso(alpha = 0.1, max_iter = 100000)\n",
    "lasso.fit(train_x,train_y)\n",
    "pred_y = lasso.predict(test_x)\n",
    "r2_score(pred_y,test_y)"
   ]
  },
  {
   "cell_type": "markdown",
   "id": "a98b7e58-5c32-45b0-931f-3024d77ad414",
   "metadata": {},
   "source": [
    "This means the model is too simple"
   ]
  },
  {
   "cell_type": "code",
   "execution_count": 56,
   "id": "55875fd0-5d2f-439d-b9f0-4d9d3893890e",
   "metadata": {},
   "outputs": [],
   "source": [
    "poly = PolynomialFeatures(degree = 3)\n",
    "new_x = poly.fit_transform(x)\n",
    "train_x,test_x,train_y,test_y = train_test_split(new_x,y,test_size = 0.3, random_state = 42)"
   ]
  },
  {
   "cell_type": "code",
   "execution_count": 57,
   "id": "2a392d77-1930-4dcb-8553-b3c7ab5ae9d8",
   "metadata": {},
   "outputs": [
    {
     "data": {
      "text/plain": [
       "-0.058508772219295846"
      ]
     },
     "execution_count": 57,
     "metadata": {},
     "output_type": "execute_result"
    }
   ],
   "source": [
    "lr = LinearRegression()\n",
    "lr.fit(train_x,train_y)\n",
    "pred_y = lr.predict(test_x)\n",
    "r2_score(pred_y,test_y)"
   ]
  },
  {
   "cell_type": "code",
   "execution_count": 62,
   "id": "b18ad722-1a42-4408-b854-959c34160423",
   "metadata": {},
   "outputs": [
    {
     "data": {
      "text/html": [
       "<div>\n",
       "<style scoped>\n",
       "    .dataframe tbody tr th:only-of-type {\n",
       "        vertical-align: middle;\n",
       "    }\n",
       "\n",
       "    .dataframe tbody tr th {\n",
       "        vertical-align: top;\n",
       "    }\n",
       "\n",
       "    .dataframe thead th {\n",
       "        text-align: right;\n",
       "    }\n",
       "</style>\n",
       "<table border=\"1\" class=\"dataframe\">\n",
       "  <thead>\n",
       "    <tr style=\"text-align: right;\">\n",
       "      <th></th>\n",
       "      <th>0</th>\n",
       "      <th>1</th>\n",
       "    </tr>\n",
       "  </thead>\n",
       "  <tbody>\n",
       "    <tr>\n",
       "      <th>2</th>\n",
       "      <td>Order_Date</td>\n",
       "      <td>2.249349e+02</td>\n",
       "    </tr>\n",
       "    <tr>\n",
       "      <th>20</th>\n",
       "      <td>Pickup_Time_evening</td>\n",
       "      <td>1.399123e+02</td>\n",
       "    </tr>\n",
       "    <tr>\n",
       "      <th>15</th>\n",
       "      <td>Order_Time_afternoon</td>\n",
       "      <td>1.210928e+02</td>\n",
       "    </tr>\n",
       "    <tr>\n",
       "      <th>19</th>\n",
       "      <td>Pickup_Time_afternoon</td>\n",
       "      <td>9.351489e+01</td>\n",
       "    </tr>\n",
       "    <tr>\n",
       "      <th>16</th>\n",
       "      <td>Order_Time_evening</td>\n",
       "      <td>9.163910e+01</td>\n",
       "    </tr>\n",
       "    <tr>\n",
       "      <th>21</th>\n",
       "      <td>Pickup_Time_morning</td>\n",
       "      <td>7.520295e+01</td>\n",
       "    </tr>\n",
       "    <tr>\n",
       "      <th>4</th>\n",
       "      <td>Area</td>\n",
       "      <td>4.135437e+01</td>\n",
       "    </tr>\n",
       "    <tr>\n",
       "      <th>11</th>\n",
       "      <td>Traffic_High</td>\n",
       "      <td>3.521112e+01</td>\n",
       "    </tr>\n",
       "    <tr>\n",
       "      <th>22</th>\n",
       "      <td>Pickup_Time_night</td>\n",
       "      <td>2.880551e+01</td>\n",
       "    </tr>\n",
       "    <tr>\n",
       "      <th>13</th>\n",
       "      <td>Traffic_Low</td>\n",
       "      <td>2.741151e+01</td>\n",
       "    </tr>\n",
       "    <tr>\n",
       "      <th>18</th>\n",
       "      <td>Order_Time_night</td>\n",
       "      <td>2.279012e+01</td>\n",
       "    </tr>\n",
       "    <tr>\n",
       "      <th>1</th>\n",
       "      <td>Agent_Rating</td>\n",
       "      <td>1.598285e+01</td>\n",
       "    </tr>\n",
       "    <tr>\n",
       "      <th>7</th>\n",
       "      <td>Distance</td>\n",
       "      <td>1.264609e+01</td>\n",
       "    </tr>\n",
       "    <tr>\n",
       "      <th>10</th>\n",
       "      <td>Vehicle_van</td>\n",
       "      <td>9.663027e+00</td>\n",
       "    </tr>\n",
       "    <tr>\n",
       "      <th>14</th>\n",
       "      <td>Traffic_Medium</td>\n",
       "      <td>8.294880e+00</td>\n",
       "    </tr>\n",
       "    <tr>\n",
       "      <th>8</th>\n",
       "      <td>Vehicle_motorcycle</td>\n",
       "      <td>7.167022e+00</td>\n",
       "    </tr>\n",
       "    <tr>\n",
       "      <th>17</th>\n",
       "      <td>Order_Time_morning</td>\n",
       "      <td>6.663560e+00</td>\n",
       "    </tr>\n",
       "    <tr>\n",
       "      <th>3</th>\n",
       "      <td>Weather</td>\n",
       "      <td>2.700150e+00</td>\n",
       "    </tr>\n",
       "    <tr>\n",
       "      <th>9</th>\n",
       "      <td>Vehicle_scooter</td>\n",
       "      <td>2.496005e+00</td>\n",
       "    </tr>\n",
       "    <tr>\n",
       "      <th>12</th>\n",
       "      <td>Traffic_Jam</td>\n",
       "      <td>4.952692e-01</td>\n",
       "    </tr>\n",
       "    <tr>\n",
       "      <th>6</th>\n",
       "      <td>Category</td>\n",
       "      <td>1.439068e-08</td>\n",
       "    </tr>\n",
       "    <tr>\n",
       "      <th>0</th>\n",
       "      <td>Agent_Age</td>\n",
       "      <td>3.563297e-09</td>\n",
       "    </tr>\n",
       "    <tr>\n",
       "      <th>5</th>\n",
       "      <td>Delivery_Time</td>\n",
       "      <td>2.283477e-09</td>\n",
       "    </tr>\n",
       "  </tbody>\n",
       "</table>\n",
       "</div>"
      ],
      "text/plain": [
       "                        0             1\n",
       "2              Order_Date  2.249349e+02\n",
       "20    Pickup_Time_evening  1.399123e+02\n",
       "15   Order_Time_afternoon  1.210928e+02\n",
       "19  Pickup_Time_afternoon  9.351489e+01\n",
       "16     Order_Time_evening  9.163910e+01\n",
       "21    Pickup_Time_morning  7.520295e+01\n",
       "4                    Area  4.135437e+01\n",
       "11          Traffic_High   3.521112e+01\n",
       "22      Pickup_Time_night  2.880551e+01\n",
       "13           Traffic_Low   2.741151e+01\n",
       "18       Order_Time_night  2.279012e+01\n",
       "1            Agent_Rating  1.598285e+01\n",
       "7                Distance  1.264609e+01\n",
       "10            Vehicle_van  9.663027e+00\n",
       "14        Traffic_Medium   8.294880e+00\n",
       "8     Vehicle_motorcycle   7.167022e+00\n",
       "17     Order_Time_morning  6.663560e+00\n",
       "3                 Weather  2.700150e+00\n",
       "9        Vehicle_scooter   2.496005e+00\n",
       "12           Traffic_Jam   4.952692e-01\n",
       "6                Category  1.439068e-08\n",
       "0               Agent_Age  3.563297e-09\n",
       "5           Delivery_Time  2.283477e-09"
      ]
     },
     "execution_count": 62,
     "metadata": {},
     "output_type": "execute_result"
    }
   ],
   "source": [
    "pd.DataFrame(zip(df.columns,np.abs(lr.coef_))).sort_values(by=1, ascending = False)"
   ]
  },
  {
   "cell_type": "markdown",
   "id": "162eaddd-f0ff-46f8-9b46-3151703f7d91",
   "metadata": {},
   "source": [
    "## Conclusion"
   ]
  },
  {
   "cell_type": "markdown",
   "id": "b6145419-8cdb-44a8-aa7b-7bffbab2174e",
   "metadata": {},
   "source": [
    "Order Date and Time are the most important features"
   ]
  },
  {
   "cell_type": "markdown",
   "id": "6d10895e-80a8-4f23-b058-f81868ff77d9",
   "metadata": {},
   "source": [
    "## Flaws and next step"
   ]
  },
  {
   "cell_type": "markdown",
   "id": "80323340-3c6a-4df9-b137-487c9f740938",
   "metadata": {},
   "source": [
    "The model is too simple, the next steps will be to add more features, and find more complex relations, but currently my laptop is not supporting polynomial features of degree more than 3, I observed as we make the model more complex, the r2_score seemed to improve"
   ]
  },
  {
   "cell_type": "code",
   "execution_count": null,
   "id": "c2e858a5-9d88-414b-a676-13ae0559f475",
   "metadata": {},
   "outputs": [],
   "source": []
  }
 ],
 "metadata": {
  "kernelspec": {
   "display_name": "Python 3 (ipykernel)",
   "language": "python",
   "name": "python3"
  },
  "language_info": {
   "codemirror_mode": {
    "name": "ipython",
    "version": 3
   },
   "file_extension": ".py",
   "mimetype": "text/x-python",
   "name": "python",
   "nbconvert_exporter": "python",
   "pygments_lexer": "ipython3",
   "version": "3.12.7"
  }
 },
 "nbformat": 4,
 "nbformat_minor": 5
}
